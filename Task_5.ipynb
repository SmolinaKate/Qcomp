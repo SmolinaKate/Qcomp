{
 "cells": [
  {
   "cell_type": "code",
   "execution_count": 6,
   "metadata": {},
   "outputs": [],
   "source": [
    "from qiskit import *\n",
    "from qiskit.quantum_info import Operator, average_gate_fidelity\n",
    "from numpy import pi\n",
    "import numpy as np\n",
    "simulator = Aer.get_backend('qasm_simulator')"
   ]
  },
  {
   "cell_type": "markdown",
   "metadata": {},
   "source": [
    "Рассмотрим состояние $ | \\psi \\rangle = a_{00}|00\\rangle+a_{01}|01\\rangle+a_{10}|10\\rangle+a_{11}|11\\rangle$"
   ]
  },
  {
   "cell_type": "code",
   "execution_count": 10,
   "metadata": {},
   "outputs": [],
   "source": [
    "a00=1\n",
    "a01=1\n",
    "a10=1\n",
    "a11=1"
   ]
  },
  {
   "cell_type": "markdown",
   "metadata": {},
   "source": [
    "Его можно представить в виде разложения $ | \\psi \\rangle =  |0\\rangle\\otimes | \\phi_1 \\rangle + |1\\rangle\\otimes | \\phi_2 \\rangle$, где $|\\phi_1\\rangle=a_{00}|0\\rangle+a_{01}|1\\rangle$ and $|\\phi_2\\rangle=a_{10}|0\\rangle+a_{11}|1\\rangle$\n",
    "\n",
    "\n",
    "\n",
    "$ \\langle \\phi_2| \\phi_1 \\rangle=a_{00}^*a_{10}+a_{11}a_{01}^*$,  $ \\langle \\phi_1| \\phi_1 \\rangle=|a_{00}|^2+|a_{01}|^2$,  $ \\langle \\phi_2| \\phi_2 \\rangle=|a_{10}|^2+|a_{11}|^2$ (далее мы предполагаем числа действительными, так как таковыми они являются в задании)"
   ]
  },
  {
   "cell_type": "code",
   "execution_count": 59,
   "metadata": {},
   "outputs": [],
   "source": [
    "sc_21=a00*a10+a11*a01\n",
    "sc_11=a00^2+a01^2\n",
    "sc_22=a10^2+a11^2"
   ]
  },
  {
   "cell_type": "markdown",
   "metadata": {},
   "source": [
    "Введем унитарную матрицу\n",
    "\\begin{equation}\n",
    "U=\n",
    "\\begin{pmatrix} \n",
    "u& -v^*\\\\\n",
    "v & u^*\\\\\n",
    "\\end{pmatrix}    \n",
    "\\end{equation}\n",
    "\n",
    "И подействуем ей на первый кубит введенного разложения \n",
    "$ | \\psi \\rangle =  (u|0\\rangle+v|1\\rangle)\\otimes | \\phi_1 \\rangle + (-v^*|0\\rangle+u^*|1\\rangle)\\otimes | \\phi_2 \\rangle=|0\\rangle(u| \\phi_1 \\rangle-v^*| \\phi_2 \\rangle)+|1\\rangle(v| \\phi_1 \\rangle+u^*| \\phi_2 \\rangle)$\n",
    "\n",
    "Потребуем ортогональность вектров $e_1 \\cdot e_2 =(u^*| \\phi_1 \\rangle-v| \\phi_2 \\rangle) ^{T}\\cdot (v| \\phi_1 \\rangle+u^*| \\phi_2 \\rangle)=\\delta_{e_1,e_2} = u^{*2} \\langle \\phi_1| \\phi_2\\rangle - v^{2} \\langle \\phi_2| \\phi_1\\rangle +u^* v  (\\langle \\phi_1| \\phi_1\\rangle-\\langle \\phi_2| \\phi_2\\rangle) $\n",
    "\n",
    "$f^{2} \\langle \\phi_1| \\phi_2\\rangle -  \\langle \\phi_2| \\phi_1\\rangle +f  (\\langle \\phi_1| \\phi_1\\rangle-\\langle \\phi_2| \\phi_2\\rangle)=0 $, $f=u^*/v$, из этого уравнения можно найти $f$. \n",
    "(потребуем нормированность введенных векторов $|u|^2+|v^2|=1$ ) -- ввели $l m$ \n",
    "\n"
   ]
  },
  {
   "cell_type": "code",
   "execution_count": 27,
   "metadata": {},
   "outputs": [
    {
     "name": "stdout",
     "output_type": "stream",
     "text": [
      "-1.0 1.0\n"
     ]
    }
   ],
   "source": [
    "a = sc_21\n",
    "b = sc_11-sc_22\n",
    "c = - sc_21\n",
    "discriminant = b**2 - 4*a*c\n",
    "f1 = (-b + discriminant ** 0.5) / (2 * a)\n",
    "f2 = (-b - discriminant ** 0.5) / (2 * a)\n",
    "print(f2,f1)"
   ]
  },
  {
   "cell_type": "markdown",
   "metadata": {},
   "source": [
    "$u=\\sqrt{1-|v|^2}$\n",
    "\n",
    "$f=\\sqrt{1-|v|^2}/v$"
   ]
  },
  {
   "cell_type": "code",
   "execution_count": 36,
   "metadata": {},
   "outputs": [
    {
     "name": "stdout",
     "output_type": "stream",
     "text": [
      "0.6180339887498949\n",
      "-1.618033988749895\n",
      "0.7861513777574233\n",
      "nan\n"
     ]
    },
    {
     "name": "stderr",
     "output_type": "stream",
     "text": [
      "<ipython-input-36-4101e4eae7c9>:10: RuntimeWarning: invalid value encountered in sqrt\n",
      "  u2=np.sqrt(1-v2**2)\n"
     ]
    }
   ],
   "source": [
    "a =1\n",
    "b = f1\n",
    "c = -1\n",
    "discriminant = b**2 - 4*a*c\n",
    "v1 = (-b + discriminant ** 0.5) / (2 * a)\n",
    "v2 = (-b - discriminant ** 0.5) / (2 * a)\n",
    "print(v1)\n",
    "print(v2)\n",
    "u1=np.sqrt(1-v1**2)\n",
    "u2=np.sqrt(1-v2**2)\n",
    "print(u1)\n",
    "print(u2)"
   ]
  },
  {
   "cell_type": "code",
   "execution_count": 46,
   "metadata": {},
   "outputs": [
    {
     "data": {
      "text/html": [
       "<pre style=\"word-wrap: normal;white-space: pre;background: #fff0;line-height: 1.1;font-family: &quot;Courier New&quot;,Courier,monospace\">     \n",
       "q_0: \n",
       "     \n",
       "q_1: \n",
       "     \n",
       "c: 2/\n",
       "     </pre>"
      ],
      "text/plain": [
       "     \n",
       "q_0: \n",
       "     \n",
       "q_1: \n",
       "     \n",
       "c: 2/\n",
       "     "
      ]
     },
     "execution_count": 46,
     "metadata": {},
     "output_type": "execute_result"
    }
   ],
   "source": []
  },
  {
   "cell_type": "code",
   "execution_count": null,
   "metadata": {},
   "outputs": [],
   "source": []
  },
  {
   "cell_type": "markdown",
   "metadata": {},
   "source": [
    "Тогда они связаны с исхожным унитарным преобразованием\n",
    "$e_1=V | 0 \\rangle$, $e_2=V | 1 \\rangle$\n",
    "\n",
    "$|\\psi\\rangle=\\left(\\mathbf{u}^{\\dagger} \\otimes \\mathbf{v}\\right)(|0\\rangle \\otimes|0\\rangle+|1\\rangle \\otimes|1\\rangle)$\n",
    "\n",
    "$|\\psi\\rangle=\\left(\\mathbf{u}^{\\dagger} \\otimes \\mathbf{v}\\right) \\mathbf{C}_{10}(|0\\rangle+|1\\rangle) \\otimes|0\\rangle$\n",
    "\n",
    "$|\\psi\\rangle=\\left(\\mathbf{u}^{\\dagger} \\otimes \\mathbf{v}\\right) \\mathbf{C}_{10}(\\mathbf{w} \\otimes \\mathbf{1})(|0\\rangle \\otimes|0\\rangle)=\\mathbf{u}_{1}^{\\dagger} \\mathbf{v}_{0} \\mathbf{C}_{10} \\mathbf{w}_{1}|00\\rangle$\n",
    "\n",
    "%w_op = Operator([[1, 0],\n",
    "               % [0, 0]])\n",
    "%cx_circ.unitary(w_op, [0, 1], label='W')\n"
   ]
  },
  {
   "cell_type": "markdown",
   "metadata": {},
   "source": []
  },
  {
   "cell_type": "code",
   "execution_count": 58,
   "metadata": {},
   "outputs": [
    {
     "data": {
      "text/html": [
       "<pre style=\"word-wrap: normal;white-space: pre;background: #fff0;line-height: 1.1;font-family: &quot;Courier New&quot;,Courier,monospace\">     ┌───┐┌───┐┌───┐┌─────┐     ┌─────┐┌───┐┌───┐     ┌───┐     ┌────┐┌───┐»\n",
       "q_0: ┤ W ├┤ W ├┤ W ├┤ Wuu ├─|0>─┤ Wuu ├┤ W ├┤ W ├──■──┤ W ├──■──┤ UT ├┤ W ├»\n",
       "     ├───┤└───┘└───┘└─────┘     └─────┘└───┘└───┘┌─┴─┐└───┘┌─┴─┐├───┬┘└───┘»\n",
       "q_1: ┤ W ├───────────────────────────────────────┤ X ├─────┤ X ├┤ V ├──────»\n",
       "     └───┘                                       └───┘     └───┘└───┘      »\n",
       "c: 2/══════════════════════════════════════════════════════════════════════»\n",
       "                                                                           »\n",
       "«          ┌────┐┌───┐     ┌────┐\n",
       "«q_0: ──■──┤ UT ├┤ W ├──■──┤ UT ├\n",
       "«     ┌─┴─┐├───┬┘└───┘┌─┴─┐├───┬┘\n",
       "«q_1: ┤ X ├┤ V ├──────┤ X ├┤ V ├─\n",
       "«     └───┘└───┘      └───┘└───┘ \n",
       "«c: 2/═══════════════════════════\n",
       "«                                </pre>"
      ],
      "text/plain": [
       "     ┌───┐┌───┐┌───┐┌─────┐     ┌─────┐┌───┐┌───┐     ┌───┐     ┌────┐┌───┐»\n",
       "q_0: ┤ W ├┤ W ├┤ W ├┤ Wuu ├─|0>─┤ Wuu ├┤ W ├┤ W ├──■──┤ W ├──■──┤ UT ├┤ W ├»\n",
       "     ├───┤└───┘└───┘└─────┘     └─────┘└───┘└───┘┌─┴─┐└───┘┌─┴─┐├───┬┘└───┘»\n",
       "q_1: ┤ W ├───────────────────────────────────────┤ X ├─────┤ X ├┤ V ├──────»\n",
       "     └───┘                                       └───┘     └───┘└───┘      »\n",
       "c: 2/══════════════════════════════════════════════════════════════════════»\n",
       "                                                                           »\n",
       "«          ┌────┐┌───┐     ┌────┐\n",
       "«q_0: ──■──┤ UT ├┤ W ├──■──┤ UT ├\n",
       "«     ┌─┴─┐├───┬┘└───┘┌─┴─┐├───┬┘\n",
       "«q_1: ┤ X ├┤ V ├──────┤ X ├┤ V ├─\n",
       "«     └───┘└───┘      └───┘└───┘ \n",
       "«c: 2/═══════════════════════════\n",
       "«                                "
      ]
     },
     "execution_count": 58,
     "metadata": {},
     "output_type": "execute_result"
    }
   ],
   "source": [
    "qreg_q = QuantumRegister(2, 'q')\n",
    "creg_c = ClassicalRegister(2, 'c')\n",
    "circuit = QuantumCircuit(qreg_q, creg_c)\n",
    "\n",
    "w_op = Operator([[1, 0],[0, 1]])\n",
    "u_op_tr = Operator([[1, 0],[0, 1]])\n",
    "v_op_tr = Operator([[1, 0],[0, 1]])\n",
    "circuit.unitary(w_op,[0], label='W')\n",
    "circuit.cx(qreg_q[0], qreg_q[1])\n",
    "circuit.unitary(u_op_tr,[0], label='UT')\n",
    "circuit.unitary(v_op_tr,[1], label='V')\n",
    "circuit.draw()"
   ]
  },
  {
   "cell_type": "code",
   "execution_count": null,
   "metadata": {},
   "outputs": [],
   "source": []
  }
 ],
 "metadata": {
  "kernelspec": {
   "display_name": "Python 3",
   "language": "python",
   "name": "python3"
  },
  "language_info": {
   "codemirror_mode": {
    "name": "ipython",
    "version": 3
   },
   "file_extension": ".py",
   "mimetype": "text/x-python",
   "name": "python",
   "nbconvert_exporter": "python",
   "pygments_lexer": "ipython3",
   "version": "3.8.3"
  }
 },
 "nbformat": 4,
 "nbformat_minor": 4
}
