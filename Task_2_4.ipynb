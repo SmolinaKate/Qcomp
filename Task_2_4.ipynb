{
 "cells": [
  {
   "cell_type": "markdown",
   "metadata": {},
   "source": [
    "Реализуем поиск Гровера для 2х кубитов, ищем состояние $|q \\rangle $.\n",
    "\n",
    "В данном алгоритме оракул представим в виде:\n",
    "\n",
    "\n",
    "$U_{q}|x\\rangle=|x\\rangle  \\text { for } x \\neq q$\n",
    "\n",
    "\n",
    "$U_{q}|x\\rangle=-|x\\rangle \\text {for } x=q $\n",
    "\n",
    "1. Сконструируем суперпозицию состояний в виде -- $|s\\rangle=H^{\\otimes n}|0\\rangle^{n}$\n",
    "\n",
    "Введем ортогональную систему координат из векторов  $|q\\rangle$ и $\\left|e\\right\\rangle$, тогда можно представить суперпозиционное состояние в виде $|s\\rangle=\\sin \\theta|q\\rangle+\\cos \\theta\\left|e \\right\\rangle,$ где, очевидно, $\\theta=\\arcsin \\langle s \\mid q\\rangle=\\arcsin \\frac{1}{\\sqrt{N}} $.\n",
    "\n",
    "Для 2х кубитов $\\theta=\\arcsin \\frac{1}{\\sqrt{N=4}} = \\frac{\\pi}{6}$\n"
   ]
  },
  {
   "cell_type": "markdown",
   "metadata": {},
   "source": [
    "2. Применение оракула $U_{q}$ к суперпозиционному состоянию.\n",
    "\n",
    "В введенной системе координат применеие оракула означает, что координата разложения, соответствующая вектору $|q\\rangle$, меняет знак.\n",
    "\n",
    "3. Применяем вращение $U_{s}=2|s\\rangle\\langle s|-1$. Очевидно, что вращение относительно вектора $|s\\rangle$ можно представить в таком виде, так как, действуя этим оператором на состояние, ортоногональное $|s\\rangle$, мы получим смену знака, при этом действие на состояние $|s\\rangle$ его не меняет. \n",
    "\n",
    "В результате этого действия амплитуда искомого состояния вырастет по сравнению с остальными. \n",
    "\n",
    "Эти действия мы применяем несколько $m$ раз $\\left(U_{s} U_{q}\\right)^{m}|s\\rangle=\\sin \\theta_{m}|q\\rangle+\\cos \\theta_{m}\\left|e\\right\\rangle$\n",
    "\n",
    "$$\n",
    "\\theta_{m}=(2 m+1) \\theta\n",
    "$$\n",
    "\n",
    "Итак, для нахождения $|q \\rangle$ (получения этого вектора в результате измерения) нужен угол $\\theta_{m}=\\frac{\\pi}{2},$ в случае 2х кубитов $\\theta=\\frac{\\pi}{6}$ нужно положить $m=1 .$ \n"
   ]
  },
  {
   "cell_type": "markdown",
   "metadata": {},
   "source": [
    "Рассмотрим в качестве примера $|q \\rangle = |1 1 \\rangle $.\n",
    "\n",
    "Оракул представим в виде \n",
    "\n",
    "$$\n",
    "U_{q}=\\left[\\begin{array}{cccc}\n",
    "1 & 0 & 0 & 0 \\\\\n",
    "0 & 1 & 0 & 0 \\\\\n",
    "0 & 0 & 1 & 0 \\\\\n",
    "0 & 0 & 0 & -1\n",
    "\\end{array}\\right],\n",
    "$$\n",
    "\n",
    "что соответствует контролируемому применеию оператора z.\n",
    "\n",
    "Сконструируем оператор отражения.\n",
    "По определению отражения, нам нужно изменить знак на противоположный у всех векторов, ортогональных $s$. Для этого перейдем в систему координат, где $s$ -- нулевой вектор, для этого применим оператор адамара. \n",
    "\n",
    "$$\n",
    "H^{\\otimes n}|s\\rangle=|0\\rangle\n",
    "$$\n",
    "\n",
    "Далее мы сконструируем такой оператор, которые меняет знак у всех состояний, кроме 0 (отражает), и действует на сумму базисных векторов следующим образом --\n",
    "$$\n",
    " \\frac{1}{2}(|00\\rangle+|01\\rangle+|10\\rangle+|11\\rangle) --> \\frac{1}{2}(|00\\rangle-|01\\rangle-|10\\rangle-|11\\rangle)\n",
    "$$\n",
    "\n",
    "Матрицу такого оператора можно представить в виде перемножения котролируемого применения оператора Z и z-матриц Паули к каждому из кубитов. \n",
    "\n",
    "И потом мы возвращаемся в исходную систему координат, искомый оператор отражения в которой запишется как \n",
    "\n",
    "$$\n",
    "H^{\\otimes n} U_{0} H^{\\otimes n}=U_{s}\n",
    "$$"
   ]
  },
  {
   "cell_type": "code",
   "execution_count": 1,
   "metadata": {},
   "outputs": [],
   "source": [
    "import numpy as np\n",
    "from qiskit import *\n",
    "from qiskit.visualization import plot_histogram"
   ]
  },
  {
   "cell_type": "code",
   "execution_count": 2,
   "metadata": {},
   "outputs": [
    {
     "data": {
      "text/html": [
       "<pre style=\"word-wrap: normal;white-space: pre;background: #fff0;line-height: 1.1;font-family: &quot;Courier New&quot;,Courier,monospace\">     ┌───┐   ┌───┐┌───┐   ┌───┐\n",
       "q_0: ┤ H ├─■─┤ H ├┤ Z ├─■─┤ H ├\n",
       "     ├───┤ │ ├───┤├───┤ │ ├───┤\n",
       "q_1: ┤ H ├─■─┤ H ├┤ Z ├─■─┤ H ├\n",
       "     └───┘   └───┘└───┘   └───┘</pre>"
      ],
      "text/plain": [
       "     ┌───┐   ┌───┐┌───┐   ┌───┐\n",
       "q_0: ┤ H ├─■─┤ H ├┤ Z ├─■─┤ H ├\n",
       "     ├───┤ │ ├───┤├───┤ │ ├───┤\n",
       "q_1: ┤ H ├─■─┤ H ├┤ Z ├─■─┤ H ├\n",
       "     └───┘   └───┘└───┘   └───┘"
      ]
     },
     "execution_count": 2,
     "metadata": {},
     "output_type": "execute_result"
    }
   ],
   "source": [
    "grover_circuit = QuantumCircuit(2)\n",
    "\n",
    "#создание суперпозиционного состояния\n",
    "grover_circuit.h([0,1])\n",
    "#применение Оракула \n",
    "grover_circuit.cz(0,1)\n",
    "# (U_s)\n",
    "grover_circuit.h([0,1])\n",
    "grover_circuit.z([0,1])\n",
    "grover_circuit.cz(0,1)\n",
    "grover_circuit.h([0,1])\n",
    "grover_circuit.draw()"
   ]
  },
  {
   "cell_type": "code",
   "execution_count": 3,
   "metadata": {},
   "outputs": [
    {
     "data": {
      "image/png": "[encoded data removed]",
      "text/plain": [
       "<Figure size 504x360 with 1 Axes>"
      ]
     },
     "execution_count": 3,
     "metadata": {},
     "output_type": "execute_result"
    }
   ],
   "source": [
    "grover_circuit.measure_all()\n",
    "\n",
    "qasm_simulator = Aer.get_backend('qasm_simulator')\n",
    "shots = 1024\n",
    "results = execute(grover_circuit, backend=qasm_simulator, shots=shots).result()\n",
    "answer = results.get_counts()\n",
    "plot_histogram(answer)"
   ]
  },
  {
   "cell_type": "markdown",
   "metadata": {},
   "source": [
    "Если применем алгоритм еще один раз, то получим размытие вероятности на все состояния"
   ]
  },
  {
   "cell_type": "code",
   "execution_count": 6,
   "metadata": {},
   "outputs": [
    {
     "data": {
      "text/html": [
       "<pre style=\"word-wrap: normal;white-space: pre;background: #fff0;line-height: 1.1;font-family: &quot;Courier New&quot;,Courier,monospace\">     ┌───┐   ┌───┐┌───┐   ┌───┐   ┌───┐┌───┐   ┌───┐\n",
       "q_0: ┤ H ├─■─┤ H ├┤ Z ├─■─┤ H ├─■─┤ H ├┤ Z ├─■─┤ H ├\n",
       "     ├───┤ │ ├───┤├───┤ │ ├───┤ │ ├───┤├───┤ │ ├───┤\n",
       "q_1: ┤ H ├─■─┤ H ├┤ Z ├─■─┤ H ├─■─┤ H ├┤ Z ├─■─┤ H ├\n",
       "     └───┘   └───┘└───┘   └───┘   └───┘└───┘   └───┘</pre>"
      ],
      "text/plain": [
       "     ┌───┐   ┌───┐┌───┐   ┌───┐   ┌───┐┌───┐   ┌───┐\n",
       "q_0: ┤ H ├─■─┤ H ├┤ Z ├─■─┤ H ├─■─┤ H ├┤ Z ├─■─┤ H ├\n",
       "     ├───┤ │ ├───┤├───┤ │ ├───┤ │ ├───┤├───┤ │ ├───┤\n",
       "q_1: ┤ H ├─■─┤ H ├┤ Z ├─■─┤ H ├─■─┤ H ├┤ Z ├─■─┤ H ├\n",
       "     └───┘   └───┘└───┘   └───┘   └───┘└───┘   └───┘"
      ]
     },
     "execution_count": 6,
     "metadata": {},
     "output_type": "execute_result"
    }
   ],
   "source": [
    "grover_circuit = QuantumCircuit(2)\n",
    "\n",
    "\n",
    "#создание суперпозиционного состояния\n",
    "grover_circuit.h([0,1])\n",
    "#применение Оракула \n",
    "grover_circuit.cz(0,1)\n",
    "# (U_s)\n",
    "grover_circuit.h([0,1])\n",
    "grover_circuit.z([0,1])\n",
    "grover_circuit.cz(0,1)\n",
    "grover_circuit.h([0,1])\n",
    "#######еще один раз примением алгоритм\n",
    "#применение Оракула \n",
    "grover_circuit.cz(0,1)\n",
    "# (U_s)\n",
    "grover_circuit.h([0,1])\n",
    "grover_circuit.z([0,1])\n",
    "grover_circuit.cz(0,1)\n",
    "\n",
    "\n",
    "grover_circuit.h([0,1])\n",
    "grover_circuit.draw()"
   ]
  },
  {
   "cell_type": "code",
   "execution_count": 7,
   "metadata": {},
   "outputs": [
    {
     "data": {
      "image/png": "[encoded data removed]",
      "text/plain": [
       "<Figure size 504x360 with 1 Axes>"
      ]
     },
     "execution_count": 7,
     "metadata": {},
     "output_type": "execute_result"
    }
   ],
   "source": [
    "grover_circuit.measure_all()\n",
    "\n",
    "qasm_simulator = Aer.get_backend('qasm_simulator')\n",
    "shots = 1024\n",
    "results = execute(grover_circuit, backend=qasm_simulator, shots=shots).result()\n",
    "answer = results.get_counts()\n",
    "plot_histogram(answer)"
   ]
  },
  {
   "cell_type": "code",
   "execution_count": null,
   "metadata": {},
   "outputs": [],
   "source": []
  },
  {
   "cell_type": "code",
   "execution_count": null,
   "metadata": {},
   "outputs": [],
   "source": []
  },
  {
   "cell_type": "code",
   "execution_count": null,
   "metadata": {},
   "outputs": [],
   "source": []
  }
 ],
 "metadata": {
  "kernelspec": {
   "display_name": "Python 3",
   "language": "python",
   "name": "python3"
  },
  "language_info": {
   "codemirror_mode": {
    "name": "ipython",
    "version": 3
   },
   "file_extension": ".py",
   "mimetype": "text/x-python",
   "name": "python",
   "nbconvert_exporter": "python",
   "pygments_lexer": "ipython3",
   "version": "3.8.3"
  }
 },
 "nbformat": 4,
 "nbformat_minor": 4
}
