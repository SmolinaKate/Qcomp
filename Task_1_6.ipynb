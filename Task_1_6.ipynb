{
 "cells": [
  {
   "cell_type": "markdown",
   "metadata": {},
   "source": [
    "Рассмотрим состояние $n$ кубитов, представленное в виде $|\\Psi\\rangle_{n}=\\sum_{x} \\alpha_{x}|x\\rangle_{m}\\left|\\Phi_{x}\\right\\rangle_{n-m}$\n",
    "\n",
    "Заметим, что также состояние из $n$ кубитов может быть представлено в форме\n",
    "\n",
    "$|\\Psi\\rangle_{n}=\\sum_{x} \\alpha_{x }|x\\rangle_{n}$,\n",
    "\n",
    "или эквивалентно\n",
    "\n",
    "$|\\Psi\\rangle_{n}=\\sum_{x, y} \\alpha_{x y}|x\\rangle_{m}|y\\rangle_{m-n}$.\n",
    "\n",
    "Если измерено $|x\\rangle_{m}$ кубитов, то с вероятность того, что результат измерения будет $x$:\n",
    "$p(x)=\\sum_{y}\\left|\\alpha_{x y}\\right|^{2}$\n",
    "и после измерения система будет находиться в состоянии\n",
    "$|x\\rangle_{m}\\frac{1}{\\sqrt{p(x)}} \\sum_{y} \\alpha_{x y}|y\\rangle_{m-n}$ (учтена нормировка), откуда видно определении функции, данной в формулировке задания\n",
    "\n",
    "$|\\Phi_{x}\\rangle_{n-m}= \\frac{1}{\\sqrt{p(x)}} \\sum_{y} \\alpha_{x y}|y\\rangle_{m-n}$.\n",
    "\n",
    "\n",
    "(a) Рассмотрим $n$-кубитное состояние, $m+k+l=n$,сначала измерим $m$ кубитов, потом $k$.\n",
    "\n",
    "Запишем состоянии в виде\n",
    "\n",
    "$|\\Psi\\rangle_{n}=\\sum_{x, y, z} \\alpha_{x y z}|x\\rangle_{m}|y\\rangle_{k}|z\\rangle_{l}$\n",
    "\n",
    "Сначала измеряем n кубитов, вероятность получить в результате измерения $х$ записывается в виде\n",
    "\n",
    "$p(x)=\\sum_{y, z}\\left|\\alpha_{x y z}\\right|^{2}$,\n",
    "\n",
    "причем система будет после измерения в состоянии\n",
    "\n",
    "$|x\\rangle_{m}\\left|\\Phi_{x}\\right\\rangle_{k+l}=|x\\rangle_{m} \\frac{1}{\\sqrt{p(x)}} \\sum_{y, z} \\alpha_{x y z}|y\\rangle_{k}|z\\rangle_{l}$\n",
    "\n",
    "\n",
    "Далее меряем следующие $k$ кубитов, результат будет $у$ с вероятностью\n",
    "\n",
    "$p(y \\mid x)=\\sum_{z}\\left|\\alpha_{x y z} \\right|^{2}/p(x)$\n",
    "\n",
    "и после измерения система будет находиться в \n",
    "\n",
    "$|x\\rangle_{m}|y\\rangle_{k}\\frac{1}{\\sqrt{p(y \\mid x)}} \\frac{1}{\\sqrt{p(x)}} \\sum_{z} \\alpha_{x y z}|z\\rangle_{l}$\n",
    "\n",
    "\n",
    "(б) если мы изначально сразу меряем $m+k$ кубитов, то получим ху с вероятностью \n",
    "$p(x y)=\\sum_{z}\\left|\\alpha_{x y z}\\right|^{2}$\n",
    "после измерения состояние будет в \n",
    "\n",
    "$|x\\rangle_{m}|y\\rangle_{k} \\frac{1}{\\sqrt{p(x y)}} \\sum_{z} \\alpha_{x y z}|z\\rangle_{l}$\n",
    "\n",
    "\n",
    "учитывая $p(x y)=p(x) p(y \\mid x)$, (а) соответсвует (б) (соответсвуют и полученные состояния, и вероятности)."
   ]
  },
  {
   "cell_type": "code",
   "execution_count": null,
   "metadata": {},
   "outputs": [],
   "source": []
  }
 ],
 "metadata": {
  "kernelspec": {
   "display_name": "Python 3",
   "language": "python",
   "name": "python3"
  },
  "language_info": {
   "codemirror_mode": {
    "name": "ipython",
    "version": 3
   },
   "file_extension": ".py",
   "mimetype": "text/x-python",
   "name": "python",
   "nbconvert_exporter": "python",
   "pygments_lexer": "ipython3",
   "version": "3.8.3"
  }
 },
 "nbformat": 4,
 "nbformat_minor": 4
}
