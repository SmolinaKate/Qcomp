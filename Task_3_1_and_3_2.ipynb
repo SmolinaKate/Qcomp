{
 "cells": [
  {
   "cell_type": "markdown",
   "metadata": {},
   "source": [
    "**3.1**\n",
    "\n",
    "**Квантовое преобразование Фурье**"
   ]
  },
  {
   "cell_type": "markdown",
   "metadata": {},
   "source": [
    "\n",
    "(ii) (i написано после) В общем случае применение оператора преобразования Фурье $U$ означает-- \n",
    "\n",
    "\n",
    "$U_{N}|x\\rangle=\\frac{1}{\\sqrt{N}} \\sum_{y=0}^{N-1} e^{2 \\pi i x y / 2^{n}}|y\\rangle=$\n",
    "\n",
    "$=\\frac{1}{\\sqrt{N}} \\sum_{y=0}^{N-1} e^{2 \\pi i\\left(\\sum_{k=1}^{n} y_{k} / 2^{k}\\right) x}\\left|y_{1} \\ldots y_{n}\\right\\rangle=$\n",
    "\n",
    "$=\\frac{1}{\\sqrt{N}} \\sum_{y=0}^{N-1} \\prod_{k=1}^{n} e^{2 \\pi i x y_{k} / 2^{k}}\\left|y_{1} \\ldots y_{n}\\right\\rangle$\n",
    " $=\\frac{1}{\\sqrt{N}} \\bigotimes_{k=1}^{n}\\left(|0\\rangle+e^{2 \\pi i x / 2^{k}}|1\\rangle\\right)$.\n",
    " \n",
    " Рассмотрим 3 кубита и реализуем для них преобразование Фурье. \n"
   ]
  },
  {
   "cell_type": "markdown",
   "metadata": {},
   "source": [
    "\n",
    "1. Применим оператор Адамара к первому кубиту $\\left|q_{1}\\right\\rangle$\n",
    "$$\n",
    "\\left|q_{3}\\right\\rangle \\otimes\\left|q_{2}\\right\\rangle \\otimes \\frac{1}{\\sqrt{2}}\\left[|0\\rangle+\\exp \\left(\\frac{2 \\pi i}{2} q_{1}\\right)|1\\rangle\\right]\n",
    "$$\n",
    "2. Применим $U R O T_{2}$ и  $U R O T_{3}$ к первому кубиту $\\left|q_{1}\\right\\rangle$\n",
    "$$\n",
    "\\left|q_{3}\\right\\rangle \\otimes\\left|q_{2}\\right\\rangle \\otimes \\frac{1}{\\sqrt{2}}\\left[|0\\rangle+\\exp \\left(\\frac{2 \\pi i}{2^{3}} q_{3}+\\frac{2 \\pi i}{2^{2}} q_{2}+\\frac{2 \\pi i}{2} q_{1}\\right)|1\\rangle\\right]\n",
    "$$"
   ]
  },
  {
   "cell_type": "markdown",
   "metadata": {},
   "source": [
    "4.  Аналогично Адамара и $U R O T_{2}$ к $\\left|q_{2}\\right\\rangle$:\n",
    "$$\n",
    "\\left|q_{3}\\right\\rangle \\otimes \\frac{1}{\\sqrt{2}}\\left[|0\\rangle+\\exp \\left(\\frac{2 \\pi i}{2^{2}} q_{3}+\\frac{2 \\pi i}{2} q_{2}\\right)|1\\rangle\\right] \\otimes \\frac{1}{\\sqrt{2}}\\left[|0\\rangle+\\exp \\left(\\frac{2 \\pi i}{2^{3}} q_{3}+\\frac{2 \\pi i}{2^{2}} q_{2}+\\frac{2 \\pi i}{2} q_{1}\\right)|1\\rangle\\right]\n",
    "$$\n",
    "6. Далее применяем Адамара к $\\left|q_{3}\\right\\rangle$\n",
    "$$\n",
    "\\frac{1}{\\sqrt{2}}\\left[|0\\rangle+\\exp \\left(\\frac{2 \\pi i}{2} q_{3}\\right)|1\\rangle\\right] \n",
    "\\otimes \\frac{1}{\\sqrt{2}}\\left[|0\\rangle+\\exp \\left(\\frac{2 \\pi i}{2^{2}} q_{3}+\\frac{2 \\pi i}{2} q_{2}\\right)|1\\rangle\\right. ... \n",
    "$$"
   ]
  },
  {
   "cell_type": "code",
   "execution_count": 1,
   "metadata": {},
   "outputs": [],
   "source": [
    "from qiskit import *\n",
    "from numpy import *\n",
    "from qiskit.visualization import *"
   ]
  },
  {
   "cell_type": "code",
   "execution_count": 2,
   "metadata": {},
   "outputs": [],
   "source": [
    "qc = QuantumCircuit(3)"
   ]
  },
  {
   "cell_type": "code",
   "execution_count": 3,
   "metadata": {},
   "outputs": [
    {
     "data": {
      "text/html": [
       "<pre style=\"word-wrap: normal;white-space: pre;background: #fff0;line-height: 1.1;font-family: &quot;Courier New&quot;,Courier,monospace\">                                    ┌───┐   \n",
       "q_0: ─────────────■───────────■─────┤ H ├─X─\n",
       "                  │     ┌───┐ │pi/2 └───┘ │ \n",
       "q_1: ──────■──────┼─────┤ H ├─■───────────┼─\n",
       "     ┌───┐ │pi/2  │pi/4 └───┘             │ \n",
       "q_2: ┤ H ├─■──────■───────────────────────X─\n",
       "     └───┘                                  </pre>"
      ],
      "text/plain": [
       "                                    ┌───┐   \n",
       "q_0: ─────────────■───────────■─────┤ H ├─X─\n",
       "                  │     ┌───┐ │pi/2 └───┘ │ \n",
       "q_1: ──────■──────┼─────┤ H ├─■───────────┼─\n",
       "     ┌───┐ │pi/2  │pi/4 └───┘             │ \n",
       "q_2: ┤ H ├─■──────■───────────────────────X─\n",
       "     └───┘                                  "
      ]
     },
     "execution_count": 3,
     "metadata": {},
     "output_type": "execute_result"
    }
   ],
   "source": [
    "qc.h(2)\n",
    "qc.cu1(pi/2, 1, 2) \n",
    "qc.cu1(pi/4, 0, 2)\n",
    "qc.h(1)\n",
    "qc.cu1(pi/2, 0, 1) \n",
    "qc.h(0)\n",
    "qc.swap(0,2)\n",
    "qc.draw()"
   ]
  },
  {
   "cell_type": "markdown",
   "metadata": {},
   "source": [
    "(i) для 2х кубитов $N=2^{(n=2)}=4$. \n"
   ]
  },
  {
   "cell_type": "markdown",
   "metadata": {},
   "source": [
    "На первом шаге создадим суперпозицию:\n",
    "\n",
    "$$\n",
    "|0\\rangle|0\\rangle \\stackrel{Q F T_{4}}{\\longrightarrow} \\frac{1}{\\sqrt{4}} \\sum_{q=0}^{3}|q\\rangle|0\\rangle\n",
    "$$\n",
    "Далее применяем функцию, как в алгоритме Саймона:\n",
    "$$\n",
    "\\frac{1}{\\sqrt{4}} \\sum_{q=0}^{3}|q\\rangle|0\\rangle \\stackrel{U_{f}}{\\longrightarrow} \\frac{1}{\\sqrt{4}} \\sum_{q=0}^{3}|q\\rangle|q \\bmod 2\\rangle\n",
    "$$\n",
    "Проведем измерение $|f\\rangle $, без ограничения общности скажем, что в результате измерения  $|f(q)\\rangle=|1\\rangle .$ Тогда в первом регистре на месте $q$ должно быть нечетное число (из-за периодичности) -- \n",
    "$$\n",
    " \\frac{1}{2}(|1\\rangle+|3\\rangle) \\otimes|1\\rangle\n",
    "$$\n",
    "Применяем КПФ -- \n",
    "\n",
    "$$\n",
    "\\begin{aligned}\n",
    "U_{\\mathrm{QFT}} \\left( \\frac{1}{2}(|1\\rangle+|3\\rangle) \\right) &=\\frac{1}{2^{2 / 2}} \\sum_{y=0}^{3} \\left( \\frac{1}{2}  e^{2 \\pi i\\left(1\\right) y / 2^{2}}|y\\rangle +  \\frac{1}{2}  e^{2 \\pi i\\left(3\\right) y / 2^{2}}|y\\rangle \\right) \\\\\n",
    "&=\\frac{1}{4} \\sum_{y=0}^{3} \\left(   e^{ \\pi i y / 2}|y\\rangle +  \n",
    "e^{3 \\pi i y / 2}|y\\rangle \\right) = \\frac{1}{2} \\left( |0\\rangle + |2\\rangle\n",
    "\\right) \n",
    "\\end{aligned}\n",
    "$$"
   ]
  },
  {
   "cell_type": "markdown",
   "metadata": {},
   "source": [
    "\n",
    "Из общей формулы на лекциях мы видим, что вероятность максимальна при $ y \\rightarrow 2^{n=2}/r  $\n",
    "$$\n",
    "p(y)=\\frac{1}{2^{n} m}\\left|\\sum_{k=0}^{m-1} e^{2 \\pi i k r y / 2^{n}}\\right|^{2},\n",
    "$$\n",
    "\n",
    "в нашем случае выпадут состояния 0 и 2, значит, $ 2 \\rightarrow 4/r$, отсюда находим $r=2$."
   ]
  },
  {
   "cell_type": "markdown",
   "metadata": {},
   "source": [
    "**3.2**"
   ]
  },
  {
   "cell_type": "markdown",
   "metadata": {},
   "source": [
    "Алгоритм позволяет оценить $\\theta$, где $\\theta = \\Theta/(2 \\pi)$ (пусть в формулировке задания используется $\\Theta$) входит в показатель экспоненты собственного числа оператора $U|\\psi\\rangle=e^{2 \\pi i \\theta}|\\psi\\rangle$. В случае $T$-оператора из данной задачи $|\\psi\\rangle=|1\\rangle$.\n",
    "\n",
    "\n",
    "Шаги алгоритма:\n",
    "\n",
    "К начальному состоянию в форме $|0\\rangle^{\\otimes n}|1\\rangle$ мы применяем операторы Адамара ко всем кубитам кроме последнего\n",
    "\n",
    "$$\n",
    "f_{1}=\\frac{1}{\\sqrt{2^n}}(|0\\rangle+|1\\rangle)^{\\otimes n}|\\psi\\rangle\n",
    "$$\n",
    "Применяя оператор $U$ несколько раз, получим -- \n",
    "$U^{2^{j}}|\\psi\\rangle=e^{2 \\pi i 2^{j} \\theta}|\\psi\\rangle$.\n",
    "Применяем контролируемые операции $C-U^{2^{j}}$ к $f_{1}$:\n",
    "$$\n",
    "\\frac{1}{2^{\\frac{n}{2}}}\\left(|0\\rangle+e^{2 \\pi i \\theta 2^{n-1}}|1\\rangle\\right) \\otimes \\cdots \\otimes\\left(|0\\rangle+e^{2 \\pi i \\theta 2^{1}}|1\\rangle\\right) \\otimes\\left(|0\\rangle+e^{2 \\pi i \\theta 2^{0}}|1\\rangle\\right) \\otimes|\\psi\\rangle \n",
    " \\equiv \\frac{1}{2^{\\frac{n}{2}}} \\sum_{k=0}^{2^{n}-1} e^{2 \\pi i \\theta k}|k\\rangle \\otimes|\\psi\\rangle\n",
    "$$"
   ]
  },
  {
   "cell_type": "markdown",
   "metadata": {},
   "source": [
    "Заметим, что то выражение совпадает с применением КПФ к $x$ для $x=2^{n} \\theta$, то есть для получения состояния $\\left|2^{n} \\theta\\right\\rangle,$ нужно сделать обратное преобразование Фурье.\n",
    "\n",
    "\n",
    "$$\n",
    "QFT^{-1}\\frac{1}{2^{\\frac{n}{2}}} \\sum_{k=0}^{2^{n}-1} e^{2 \\pi i \\theta k}|k\\rangle \\otimes|\\psi\\rangle = \\frac{1}{2^n} \\sum_{x=0}^{2^{n}-1} \\sum_{k=0}^{2^{n}-1} e^{-\\frac{2 \\pi i k}{2^{n}}\\left(x-2^{n} \\theta\\right)}|x\\rangle \\otimes|\\psi\\rangle\n",
    "$$\n",
    "При измерении максимальная вероятность будет для значений $x \\approx 2^{n} \\theta$.\n",
    "\n"
   ]
  },
  {
   "cell_type": "markdown",
   "metadata": {},
   "source": [
    "\n",
    "---------------------\n",
    "\n",
    "Рассмотрим подробно в качестве примера случай:\n",
    "$$\n",
    "T|1\\rangle=\\left[\\begin{array}{cc}\n",
    "1 & 0 \\\\\n",
    "0 & e^{\\frac{i \\pi}{4}}\n",
    "\\end{array}\\right]\\left[\\begin{array}{l}\n",
    "0 \\\\\n",
    "1\n",
    "\\end{array}\\right]=e^{\\frac{i \\pi}{4}}|1\\rangle\n",
    "$$\n"
   ]
  },
  {
   "cell_type": "code",
   "execution_count": 1,
   "metadata": {},
   "outputs": [
    {
     "data": {
      "text/html": [
       "<pre style=\"word-wrap: normal;white-space: pre;background: #fff0;line-height: 1.1;font-family: &quot;Courier New&quot;,Courier,monospace\">     ┌───┐                                                 \n",
       "q_0: ┤ H ├─■───────────────────────────────────────────────\n",
       "     ├───┤ │                                               \n",
       "q_1: ┤ H ├─┼──────■──────■─────────────────────────────────\n",
       "     ├───┤ │      │      │                                 \n",
       "q_2: ┤ H ├─┼──────┼──────┼──────■──────■──────■──────■─────\n",
       "     ├───┤ │pi/4  │pi/4  │pi/4  │pi/4  │pi/4  │pi/4  │pi/4 \n",
       "q_3: ┤ X ├─■──────■──────■──────■──────■──────■──────■─────\n",
       "     └───┘                                                 \n",
       "c: 3/══════════════════════════════════════════════════════\n",
       "                                                           </pre>"
      ],
      "text/plain": [
       "     ┌───┐                                                 \n",
       "q_0: ┤ H ├─■───────────────────────────────────────────────\n",
       "     ├───┤ │                                               \n",
       "q_1: ┤ H ├─┼──────■──────■─────────────────────────────────\n",
       "     ├───┤ │      │      │                                 \n",
       "q_2: ┤ H ├─┼──────┼──────┼──────■──────■──────■──────■─────\n",
       "     ├───┤ │pi/4  │pi/4  │pi/4  │pi/4  │pi/4  │pi/4  │pi/4 \n",
       "q_3: ┤ X ├─■──────■──────■──────■──────■──────■──────■─────\n",
       "     └───┘                                                 \n",
       "c: 3/══════════════════════════════════════════════════════\n",
       "                                                           "
      ]
     },
     "execution_count": 1,
     "metadata": {},
     "output_type": "execute_result"
    }
   ],
   "source": [
    "import matplotlib.pyplot as plt\n",
    "import numpy as np\n",
    "from numpy import *\n",
    "from qiskit import *\n",
    "from qiskit.visualization import *\n",
    "Theta=pi/4\n",
    "\n",
    "\n",
    "qcir = QuantumCircuit(4, 3)\n",
    "qcir.x(3)\n",
    "\n",
    "qcir.h(0)\n",
    "qcir.h(1)\n",
    "qcir.h(2)    \n",
    "\n",
    "qcir.cu1(Theta, 0, 3)\n",
    "qcir.cu1(Theta, 1, 3)\n",
    "qcir.cu1(Theta, 1, 3)\n",
    "qcir.cu1(Theta, 2, 3)\n",
    "qcir.cu1(Theta, 2, 3)\n",
    "qcir.cu1(Theta, 2, 3)\n",
    "qcir.cu1(Theta, 2, 3)\n",
    "qcir.draw()"
   ]
  },
  {
   "cell_type": "code",
   "execution_count": 2,
   "metadata": {},
   "outputs": [],
   "source": [
    "def qft_inverse(qcirc):\n",
    "    for j in range(3):\n",
    "        for m in range(j):\n",
    "            qcirc.cu1(-pi/float(2**(j-m)), m, j)\n",
    "        qcirc.h(j)\n",
    "    "
   ]
  },
  {
   "cell_type": "code",
   "execution_count": 3,
   "metadata": {},
   "outputs": [
    {
     "data": {
      "text/html": [
       "<pre style=\"word-wrap: normal;white-space: pre;background: #fff0;line-height: 1.1;font-family: &quot;Courier New&quot;,Courier,monospace\">     ┌───┐                                                    ┌───┐        »\n",
       "q_0: ┤ H ├─■────────────────────────────────────────────────X─┤ H ├─■──────»\n",
       "     ├───┤ │                                                │ └───┘ │-pi/2 »\n",
       "q_1: ┤ H ├─┼──────■──────■──────────────────────────────────┼───────■──────»\n",
       "     ├───┤ │      │      │                                  │              »\n",
       "q_2: ┤ H ├─┼──────┼──────┼──────■──────■──────■──────■──────X──────────────»\n",
       "     ├───┤ │pi/4  │pi/4  │pi/4  │pi/4  │pi/4  │pi/4  │pi/4                 »\n",
       "q_3: ┤ X ├─■──────■──────■──────■──────■──────■──────■─────────────────────»\n",
       "     └───┘                                                                 »\n",
       "c: 3/══════════════════════════════════════════════════════════════════════»\n",
       "                                                                           »\n",
       "«                          ┌─┐           \n",
       "«q_0: ──────■──────────────┤M├───────────\n",
       "«     ┌───┐ │              └╥┘     ┌─┐   \n",
       "«q_1: ┤ H ├─┼───────■───────╫──────┤M├───\n",
       "«     └───┘ │-pi/4  │-pi/2  ║ ┌───┐└╥┘┌─┐\n",
       "«q_2: ──────■───────■───────╫─┤ H ├─╫─┤M├\n",
       "«                           ║ └───┘ ║ └╥┘\n",
       "«q_3: ──────────────────────╫───────╫──╫─\n",
       "«                           ║       ║  ║ \n",
       "«c: 3/══════════════════════╩═══════╩══╩═\n",
       "«                           0       1  2 </pre>"
      ],
      "text/plain": [
       "     ┌───┐                                                    ┌───┐        »\n",
       "q_0: ┤ H ├─■────────────────────────────────────────────────X─┤ H ├─■──────»\n",
       "     ├───┤ │                                                │ └───┘ │-pi/2 »\n",
       "q_1: ┤ H ├─┼──────■──────■──────────────────────────────────┼───────■──────»\n",
       "     ├───┤ │      │      │                                  │              »\n",
       "q_2: ┤ H ├─┼──────┼──────┼──────■──────■──────■──────■──────X──────────────»\n",
       "     ├───┤ │pi/4  │pi/4  │pi/4  │pi/4  │pi/4  │pi/4  │pi/4                 »\n",
       "q_3: ┤ X ├─■──────■──────■──────■──────■──────■──────■─────────────────────»\n",
       "     └───┘                                                                 »\n",
       "c: 3/══════════════════════════════════════════════════════════════════════»\n",
       "                                                                           »\n",
       "«                          ┌─┐           \n",
       "«q_0: ──────■──────────────┤M├───────────\n",
       "«     ┌───┐ │              └╥┘     ┌─┐   \n",
       "«q_1: ┤ H ├─┼───────■───────╫──────┤M├───\n",
       "«     └───┘ │-pi/4  │-pi/2  ║ ┌───┐└╥┘┌─┐\n",
       "«q_2: ──────■───────■───────╫─┤ H ├─╫─┤M├\n",
       "«                           ║ └───┘ ║ └╥┘\n",
       "«q_3: ──────────────────────╫───────╫──╫─\n",
       "«                           ║       ║  ║ \n",
       "«c: 3/══════════════════════╩═══════╩══╩═\n",
       "«                           0       1  2 "
      ]
     },
     "execution_count": 3,
     "metadata": {},
     "output_type": "execute_result"
    }
   ],
   "source": [
    "qcir.swap(0,2)\n",
    "qft_inverse(qcir)\n",
    "qcir.measure(0,0)\n",
    "qcir.measure(1,1)\n",
    "qcir.measure(2,2)\n",
    "qcir.draw()"
   ]
  },
  {
   "cell_type": "code",
   "execution_count": 4,
   "metadata": {},
   "outputs": [
    {
     "name": "stdout",
     "output_type": "stream",
     "text": [
      "{'001': 1000}\n"
     ]
    }
   ],
   "source": [
    "backend = Aer.get_backend('qasm_simulator')\n",
    "shots = 1000\n",
    "results = execute(qcir, backend=backend, shots=shots).result()\n",
    "answer = results.get_counts()\n",
    "print(answer)"
   ]
  },
  {
   "cell_type": "markdown",
   "metadata": {},
   "source": [
    "$2^{n} \\theta=x$ \n",
    "\n",
    "Мы получили состояние 001 в качестве результата измерения ( 001 -- в бинарном виде, в десятичном это $x=1$) с веростностью 1. Чтобы получить $\\theta$:\n",
    "$$\n",
    "\\theta=\\frac{1}{2^{3}}=\\frac{1}{8},\n",
    "$$\n",
    "\n",
    "\n",
    "Для\n",
    "$\n",
    "T|1\\rangle=e^{2 i \\pi \\theta}|1\\rangle,\n",
    "$\n",
    "мы и ожидали получить для $\\Theta = \\dfrac{\\pi}{4}$\n",
    "$$\n",
    "\\theta=\\frac{1}{8}.\n",
    "$$\n",
    "\n",
    "\n",
    "Аналогично мы можем взять другую фазу, получить наиболее вероятно другое число в бинарном виде, перевести его в десятичный и определить фазу."
   ]
  },
  {
   "cell_type": "code",
   "execution_count": null,
   "metadata": {},
   "outputs": [],
   "source": []
  }
 ],
 "metadata": {
  "kernelspec": {
   "display_name": "Python 3",
   "language": "python",
   "name": "python3"
  },
  "language_info": {
   "codemirror_mode": {
    "name": "ipython",
    "version": 3
   },
   "file_extension": ".py",
   "mimetype": "text/x-python",
   "name": "python",
   "nbconvert_exporter": "python",
   "pygments_lexer": "ipython3",
   "version": "3.8.3"
  }
 },
 "nbformat": 4,
 "nbformat_minor": 4
}
