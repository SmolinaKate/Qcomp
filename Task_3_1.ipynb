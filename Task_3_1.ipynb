{
 "cells": [
  {
   "cell_type": "markdown",
   "metadata": {},
   "source": [
    "**Квантовое преобразование Фурье**\n",
    "\n"
   ]
  },
  {
   "cell_type": "markdown",
   "metadata": {},
   "source": [
    "\n",
    "(ii) (i написано после) В общем случае применение оператора преобразования Фурье $U$ означает-- \n",
    "\n",
    "\n",
    "$U_{N}|x\\rangle=\\frac{1}{\\sqrt{N}} \\sum_{y=0}^{N-1} e^{2 \\pi i x y / 2^{n}}|y\\rangle=$\n",
    "\n",
    "$=\\frac{1}{\\sqrt{N}} \\sum_{y=0}^{N-1} e^{2 \\pi i\\left(\\sum_{k=1}^{n} y_{k} / 2^{k}\\right) x}\\left|y_{1} \\ldots y_{n}\\right\\rangle=$\n",
    "\n",
    "$=\\frac{1}{\\sqrt{N}} \\sum_{y=0}^{N-1} \\prod_{k=1}^{n} e^{2 \\pi i x y_{k} / 2^{k}}\\left|y_{1} \\ldots y_{n}\\right\\rangle$\n",
    " $=\\frac{1}{\\sqrt{N}} \\bigotimes_{k=1}^{n}\\left(|0\\rangle+e^{2 \\pi i x / 2^{k}}|1\\rangle\\right)$.\n",
    " \n",
    " Рассмотрим 3 кубита и реализуем для них преобразование Фурье. \n"
   ]
  },
  {
   "cell_type": "markdown",
   "metadata": {},
   "source": [
    "\n",
    "1. Применим оператор Адамара к первому кубиту $\\left|q_{1}\\right\\rangle$\n",
    "$$\n",
    "\\left|q_{3}\\right\\rangle \\otimes\\left|q_{2}\\right\\rangle \\otimes \\frac{1}{\\sqrt{2}}\\left[|0\\rangle+\\exp \\left(\\frac{2 \\pi i}{2} q_{1}\\right)|1\\rangle\\right]\n",
    "$$\n",
    "2. Применим $U R O T_{2}$ и  $U R O T_{3}$ к первому кубиту $\\left|q_{1}\\right\\rangle$\n",
    "$$\n",
    "\\left|q_{3}\\right\\rangle \\otimes\\left|q_{2}\\right\\rangle \\otimes \\frac{1}{\\sqrt{2}}\\left[|0\\rangle+\\exp \\left(\\frac{2 \\pi i}{2^{3}} q_{3}+\\frac{2 \\pi i}{2^{2}} q_{2}+\\frac{2 \\pi i}{2} q_{1}\\right)|1\\rangle\\right]\n",
    "$$"
   ]
  },
  {
   "cell_type": "markdown",
   "metadata": {},
   "source": [
    "4.  Аналогично Адамара и $U R O T_{2}$ к $\\left|q_{2}\\right\\rangle$:\n",
    "$$\n",
    "\\left|q_{3}\\right\\rangle \\otimes \\frac{1}{\\sqrt{2}}\\left[|0\\rangle+\\exp \\left(\\frac{2 \\pi i}{2^{2}} q_{3}+\\frac{2 \\pi i}{2} q_{2}\\right)|1\\rangle\\right] \\otimes \\frac{1}{\\sqrt{2}}\\left[|0\\rangle+\\exp \\left(\\frac{2 \\pi i}{2^{3}} q_{3}+\\frac{2 \\pi i}{2^{2}} q_{2}+\\frac{2 \\pi i}{2} q_{1}\\right)|1\\rangle\\right]\n",
    "$$\n",
    "6. Далее применяем Адамара к $\\left|q_{3}\\right\\rangle$\n",
    "$$\n",
    "\\frac{1}{\\sqrt{2}}\\left[|0\\rangle+\\exp \\left(\\frac{2 \\pi i}{2} q_{3}\\right)|1\\rangle\\right] \n",
    "\\otimes \\frac{1}{\\sqrt{2}}\\left[|0\\rangle+\\exp \\left(\\frac{2 \\pi i}{2^{2}} q_{3}+\\frac{2 \\pi i}{2} q_{2}\\right)|1\\rangle\\right. ... \n",
    "$$"
   ]
  },
  {
   "cell_type": "code",
   "execution_count": 1,
   "metadata": {},
   "outputs": [],
   "source": [
    "from numpy import *\n",
    "from qiskit import *\n",
    "from qiskit.visualization import *"
   ]
  },
  {
   "cell_type": "code",
   "execution_count": 2,
   "metadata": {},
   "outputs": [],
   "source": [
    "qc = QuantumCircuit(3)"
   ]
  },
  {
   "cell_type": "code",
   "execution_count": 3,
   "metadata": {},
   "outputs": [
    {
     "data": {
      "text/html": [
       "<pre style=\"word-wrap: normal;white-space: pre;background: #fff0;line-height: 1.1;font-family: &quot;Courier New&quot;,Courier,monospace\">                                    ┌───┐   \n",
       "q_0: ─────────────■───────────■─────┤ H ├─X─\n",
       "                  │     ┌───┐ │pi/2 └───┘ │ \n",
       "q_1: ──────■──────┼─────┤ H ├─■───────────┼─\n",
       "     ┌───┐ │pi/2  │pi/4 └───┘             │ \n",
       "q_2: ┤ H ├─■──────■───────────────────────X─\n",
       "     └───┘                                  </pre>"
      ],
      "text/plain": [
       "                                    ┌───┐   \n",
       "q_0: ─────────────■───────────■─────┤ H ├─X─\n",
       "                  │     ┌───┐ │pi/2 └───┘ │ \n",
       "q_1: ──────■──────┼─────┤ H ├─■───────────┼─\n",
       "     ┌───┐ │pi/2  │pi/4 └───┘             │ \n",
       "q_2: ┤ H ├─■──────■───────────────────────X─\n",
       "     └───┘                                  "
      ]
     },
     "execution_count": 3,
     "metadata": {},
     "output_type": "execute_result"
    }
   ],
   "source": [
    "qc.h(2)\n",
    "qc.cu1(pi/2, 1, 2) \n",
    "qc.cu1(pi/4, 0, 2)\n",
    "qc.h(1)\n",
    "qc.cu1(pi/2, 0, 1) \n",
    "qc.h(0)\n",
    "qc.swap(0,2)\n",
    "qc.draw()"
   ]
  },
  {
   "cell_type": "markdown",
   "metadata": {},
   "source": [
    "(i) для 2х кубитов $N=2^{(n=2)}=4$. \n"
   ]
  },
  {
   "cell_type": "markdown",
   "metadata": {},
   "source": [
    "На первом шаге создадим суперпозицию:\n",
    "\n",
    "$$\n",
    "|0\\rangle|0\\rangle \\stackrel{Q F T_{4}}{\\longrightarrow} \\frac{1}{\\sqrt{4}} \\sum_{q=0}^{3}|q\\rangle|0\\rangle\n",
    "$$\n",
    "Далее применяем функцию, как в алгоритме Саймона:\n",
    "$$\n",
    "\\frac{1}{\\sqrt{4}} \\sum_{q=0}^{3}|q\\rangle|0\\rangle \\stackrel{U_{f}}{\\longrightarrow} \\frac{1}{\\sqrt{4}} \\sum_{q=0}^{3}|q\\rangle|q \\bmod 2\\rangle\n",
    "$$\n",
    "Проведем измерение $|f\\rangle $, без ограничения общности скажем, что в результате измерения  $|f(q)\\rangle=|1\\rangle .$ Тогда в первом регистре на месте $q$ должно быть нечетное число (из-за периодичности) -- \n",
    "$$\n",
    " \\frac{1}{2}(|1\\rangle+|3\\rangle) \\otimes|1\\rangle\n",
    "$$\n",
    "Применяем КПФ -- \n",
    "\n",
    "$$\n",
    "\\begin{aligned}\n",
    "U_{\\mathrm{QFT}} \\left( \\frac{1}{2}(|1\\rangle+|3\\rangle) \\right) &=\\frac{1}{2^{2 / 2}} \\sum_{y=0}^{3} \\left( \\frac{1}{2}  e^{2 \\pi i\\left(1\\right) y / 2^{2}}|y\\rangle +  \\frac{1}{2}  e^{2 \\pi i\\left(3\\right) y / 2^{2}}|y\\rangle \\right) \\\\\n",
    "&=\\frac{1}{4} \\sum_{y=0}^{3} \\left(   e^{ \\pi i y / 2}|y\\rangle +  \n",
    "e^{3 \\pi i y / 2}|y\\rangle \\right) = \\frac{1}{2} \\left( |0\\rangle + |2\\rangle\n",
    "\\right) \n",
    "\\end{aligned}\n",
    "$$"
   ]
  },
  {
   "cell_type": "markdown",
   "metadata": {},
   "source": [
    "\n",
    "Из общей формулы на лекциях мы видим, что вероятность максимальна при $ y \\rightarrow 2^{n=2}/r  $\n",
    "$$\n",
    "p(y)=\\frac{1}{2^{n} m}\\left|\\sum_{k=0}^{m-1} e^{2 \\pi i k r y / 2^{n}}\\right|^{2},\n",
    "$$\n",
    "\n",
    "в нашем случае выпадут состояния 0 и 2, значит, $ 2 \\rightarrow 4/r$, отсюда находим $r=2$."
   ]
  },
  {
   "cell_type": "code",
   "execution_count": null,
   "metadata": {},
   "outputs": [],
   "source": []
  }
 ],
 "metadata": {
  "kernelspec": {
   "display_name": "Python 3",
   "language": "python",
   "name": "python3"
  },
  "language_info": {
   "codemirror_mode": {
    "name": "ipython",
    "version": 3
   },
   "file_extension": ".py",
   "mimetype": "text/x-python",
   "name": "python",
   "nbconvert_exporter": "python",
   "pygments_lexer": "ipython3",
   "version": "3.8.3"
  }
 },
 "nbformat": 4,
 "nbformat_minor": 4
}
