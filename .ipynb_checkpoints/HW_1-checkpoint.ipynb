{
 "cells": [
  {
   "cell_type": "code",
   "execution_count": null,
   "metadata": {},
   "outputs": [],
   "source": [
    "from qiskit import *\n",
    "from numpy import pi\n",
    "import numpy as np\n",
    "\n",
    "simulator = Aer.get_backend('qasm_simulator')"
   ]
  },
  {
   "cell_type": "markdown",
   "metadata": {},
   "source": [
    "$a=5$"
   ]
  },
  {
   "cell_type": "code",
   "execution_count": 11,
   "metadata": {},
   "outputs": [],
   "source": [
    "theta=pi/2;\n",
    "phi=pi/2;\n",
    "num_of_shots=1000;\n",
    "\n",
    "qreg_q = QuantumRegister(1, 'q')\n",
    "creg_c = ClassicalRegister(1, 'c')\n",
    "circuit = QuantumCircuit(qreg_q, creg_c)"
   ]
  },
  {
   "cell_type": "code",
   "execution_count": 7,
   "metadata": {},
   "outputs": [
    {
     "data": {
      "text/html": [
       "<pre style=\"word-wrap: normal;white-space: pre;background: #fff0;line-height: 1.1;font-family: &quot;Courier New&quot;,Courier,monospace\">          ┌──────────────┐┌───┐┌──────────┐┌───┐┌─┐\n",
       "q_0: ─|0>─┤ U3(pi/2,0,0) ├┤ H ├┤ U1(pi/2) ├┤ H ├┤M├\n",
       "          └──────────────┘└───┘└──────────┘└───┘└╥┘\n",
       "c: 1/════════════════════════════════════════════╩═\n",
       "                                                 0 </pre>"
      ],
      "text/plain": [
       "          ┌──────────────┐┌───┐┌──────────┐┌───┐┌─┐\n",
       "q_0: ─|0>─┤ U3(pi/2,0,0) ├┤ H ├┤ U1(pi/2) ├┤ H ├┤M├\n",
       "          └──────────────┘└───┘└──────────┘└───┘└╥┘\n",
       "c: 1/════════════════════════════════════════════╩═\n",
       "                                                 0 "
      ]
     },
     "execution_count": 7,
     "metadata": {},
     "output_type": "execute_result"
    }
   ],
   "source": [
    "circuit.reset(qreg_q[0])\n",
    "circuit.u3(theta, 0, 0, qreg_q[0])\n",
    "circuit.h(qreg_q[0])\n",
    "circuit.u1(phi, qreg_q[0])\n",
    "circuit.h(qreg_q[0])\n",
    "circuit.measure(qreg_q[0], creg_c[0])\n",
    "circuit.draw()"
   ]
  },
  {
   "cell_type": "code",
   "execution_count": 8,
   "metadata": {},
   "outputs": [
    {
     "name": "stdout",
     "output_type": "stream",
     "text": [
      "\n",
      "Total count for 00 and 11 are: {'0': 508, '1': 492}\n",
      "\n",
      "cos(phi): 0.016000000000000014\n"
     ]
    }
   ],
   "source": [
    "job = execute(circuit, simulator, shots=num_of_shots)\n",
    "result = job.result()\n",
    "counts = result.get_counts(circuit)\n",
    "print(\"\\nTotal count for 00 and 11 are:\",counts)\n",
    "prob_0=counts['0']/num_of_shots;\n",
    "prob_1=counts['1']/num_of_shots;\n",
    "cosin_phi=(prob_0-prob_1)/np.sin(theta);\n",
    "print(\"\\ncos(phi):\",cosin_phi)"
   ]
  },
  {
   "cell_type": "code",
   "execution_count": null,
   "metadata": {},
   "outputs": [],
   "source": []
  }
 ],
 "metadata": {
  "kernelspec": {
   "display_name": "Python 3",
   "language": "python",
   "name": "python3"
  },
  "language_info": {
   "codemirror_mode": {
    "name": "ipython",
    "version": 3
   },
   "file_extension": ".py",
   "mimetype": "text/x-python",
   "name": "python",
   "nbconvert_exporter": "python",
   "pygments_lexer": "ipython3",
   "version": "3.8.3"
  }
 },
 "nbformat": 4,
 "nbformat_minor": 4
}
