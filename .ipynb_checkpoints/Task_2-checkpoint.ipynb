{
 "cells": [
  {
   "cell_type": "code",
   "execution_count": 1,
   "metadata": {},
   "outputs": [],
   "source": [
    "from qiskit import *\n",
    "from numpy import pi\n",
    "import numpy as np\n",
    "simulator = Aer.get_backend('qasm_simulator')"
   ]
  },
  {
   "cell_type": "markdown",
   "metadata": {},
   "source": [
    "Для приготовление однокубитного состояния $|\\psi\\rangle=\\sin \\gamma/2 |0\\rangle+e^{i \\varphi} \\cos \\gamma/2|1\\rangle$ мы будем использовать следующие операторы:\n",
    "\n",
    "\\begin{equation}\n",
    "R_z (\\gamma) =\n",
    "\\begin{pmatrix} \n",
    "e^{-i \\gamma/2 }& 0\\\\\n",
    "0 & e^{i \\gamma/2 }\\\\\n",
    "\\end{pmatrix},    \n",
    "\\end{equation}\n",
    "\n",
    "\n",
    "\n",
    "\\begin{equation}\n",
    "S =\n",
    "\\begin{pmatrix} \n",
    "1& 0\\\\\n",
    "0 & i\\\\\n",
    "\\end{pmatrix}.    \n",
    "\\end{equation}\n",
    "\n",
    "\n",
    "Рассмотрим их действие на $| 0 \\rangle$ в следующем порядке:\n",
    "\n",
    "\\begin{equation}\n",
    "H R_z (\\delta)  | 0 \\rangle = \\dfrac{1}{\\sqrt{2}}  \\begin{pmatrix} \n",
    "1& 1\\\\\n",
    "1 & -1\\\\\n",
    "\\end{pmatrix} \\left( \\!{\\begin{array}{*{20}{c}}\n",
    "e^{i \\delta /2} \\\\\n",
    "0\n",
    " \\end{array}} \\!  \\right)   = \\dfrac{e^{i \\delta /2}}{\\sqrt{2}}  \\left( \\!{\\begin{array}{*{20}{c}}\n",
    "1 \\\\\n",
    "1\n",
    " \\end{array}} \\!  \\right) \n",
    "\\end{equation}\n",
    "\n",
    "\\begin{equation}\n",
    "R_z (\\gamma) \\left[\\dfrac{e^{i \\delta /2}}{\\sqrt{2}}  \\left( \\!{\\begin{array}{*{20}{c}}\n",
    "1 \\\\\n",
    "1\n",
    " \\end{array}} \\!  \\right) \\right]  =\\dfrac{e^{i \\delta /2}}{\\sqrt{2}}  \\left( \\!{\\begin{array}{*{20}{c}}\n",
    "e^{-i \\gamma/2 } \\\\\n",
    "e^{i \\gamma/2 }\n",
    " \\end{array}} \\!  \\right) \n",
    "\\end{equation}\n",
    "\n",
    "\\begin{equation}\n",
    "H \\left[\\dfrac{e^{i \\delta /2}}{\\sqrt{2}}  \\left( \\!{\\begin{array}{*{20}{c}}\n",
    "e^{-i \\gamma/2 } \\\\\n",
    "e^{i \\gamma/2 }\n",
    " \\end{array}} \\!  \\right)  \\right]  = e^{i \\delta /2} \\left( \\!{\\begin{array}{*{20}{c}}\n",
    "\\cos \\gamma/2  \\\\\n",
    "-i \\sin \\gamma/2 \n",
    " \\end{array}} \\!  \\right) \n",
    "\\end{equation}\n",
    "\n",
    "\\begin{equation}\n",
    "S \\left[e^{i \\delta /2} \\left( \\!{\\begin{array}{*{20}{c}}\n",
    "\\cos \\gamma/2  \\\\\n",
    "-i \\sin \\gamma/2 \n",
    " \\end{array}} \\!  \\right)  \\right]  = e^{i \\delta /2} \\left( \\!{\\begin{array}{*{20}{c}}\n",
    "\\cos \\gamma/2  \\\\\n",
    "\\sin \\gamma/2 \n",
    " \\end{array}} \\!  \\right) \n",
    "\\end{equation}\n",
    "\n",
    "\\begin{equation}\n",
    "R_z (\\beta)\\left[e^{i \\delta /2} \\left( \\!{\\begin{array}{*{20}{c}}\n",
    "\\cos \\gamma/2  \\\\\n",
    "\\sin \\gamma/2 \n",
    " \\end{array}} \\!  \\right)  \\right]  = \n",
    " \\left( \\!{\\begin{array}{*{20}{c}}\n",
    "e^{i (\\delta+\\beta) /2} \\cos \\gamma/2  \\\\\n",
    "e^{i (\\delta-\\beta) /2} \\sin \\gamma/2 \n",
    " \\end{array}} \\!  \\right) \n",
    "\\end{equation}\n",
    "\n",
    "Если мы выберем углы в форме $\\delta=\\varphi;~\\beta=-\\varphi$, то получим нужное состояние.\n"
   ]
  },
  {
   "cell_type": "code",
   "execution_count": 2,
   "metadata": {},
   "outputs": [],
   "source": [
    "qreg_q = QuantumRegister(1, 'q')\n",
    "creg_c = ClassicalRegister(1, 'c')\n",
    "circuit = QuantumCircuit(qreg_q, creg_c)\n",
    "phi=pi/2\n",
    "theta=pi/2\n",
    "num_of_shots=1000"
   ]
  },
  {
   "cell_type": "code",
   "execution_count": 3,
   "metadata": {},
   "outputs": [
    {
     "data": {
      "text/html": [
       "<pre style=\"word-wrap: normal;white-space: pre;background: #fff0;line-height: 1.1;font-family: &quot;Courier New&quot;,Courier,monospace\">          ┌──────────┐┌───┐┌───┐┌──────────┐┌───┐┌───────────┐┌─┐\n",
       "q_0: ─|0>─┤ RZ(pi/2) ├┤ Z ├┤ H ├┤ RZ(pi/2) ├┤ H ├┤ RZ(-pi/2) ├┤M├\n",
       "          └──────────┘└───┘└───┘└──────────┘└───┘└───────────┘└╥┘\n",
       "c: 1/══════════════════════════════════════════════════════════╩═\n",
       "                                                               0 </pre>"
      ],
      "text/plain": [
       "          ┌──────────┐┌───┐┌───┐┌──────────┐┌───┐┌───────────┐┌─┐\n",
       "q_0: ─|0>─┤ RZ(pi/2) ├┤ Z ├┤ H ├┤ RZ(pi/2) ├┤ H ├┤ RZ(-pi/2) ├┤M├\n",
       "          └──────────┘└───┘└───┘└──────────┘└───┘└───────────┘└╥┘\n",
       "c: 1/══════════════════════════════════════════════════════════╩═\n",
       "                                                               0 "
      ]
     },
     "execution_count": 3,
     "metadata": {},
     "output_type": "execute_result"
    }
   ],
   "source": [
    "circuit.reset(qreg_q[0])\n",
    "circuit.rz(phi, qreg_q[0])\n",
    "circuit.z(qreg_q[0])\n",
    "circuit.h(qreg_q[0])\n",
    "circuit.rz(theta, qreg_q[0])\n",
    "circuit.h(qreg_q[0])\n",
    "circuit.rz(-phi, qreg_q[0])\n",
    "circuit.measure(qreg_q[0], creg_c[0])\n",
    "circuit.draw()"
   ]
  },
  {
   "cell_type": "code",
   "execution_count": 4,
   "metadata": {},
   "outputs": [
    {
     "name": "stdout",
     "output_type": "stream",
     "text": [
      "\n",
      "Total count for 00 and 11 are: {'0': 478, '1': 522}\n"
     ]
    }
   ],
   "source": [
    "simulator = Aer.get_backend('qasm_simulator')\n",
    "job = execute(circuit, simulator, shots=num_of_shots)\n",
    "result = job.result()\n",
    "counts = result.get_counts(circuit)\n",
    "print(\"\\nTotal count for 00 and 11 are:\",counts)"
   ]
  },
  {
   "cell_type": "code",
   "execution_count": null,
   "metadata": {},
   "outputs": [],
   "source": []
  }
 ],
 "metadata": {
  "kernelspec": {
   "display_name": "Python 3",
   "language": "python",
   "name": "python3"
  },
  "language_info": {
   "codemirror_mode": {
    "name": "ipython",
    "version": 3
   },
   "file_extension": ".py",
   "mimetype": "text/x-python",
   "name": "python",
   "nbconvert_exporter": "python",
   "pygments_lexer": "ipython3",
   "version": "3.8.3"
  }
 },
 "nbformat": 4,
 "nbformat_minor": 4
}
