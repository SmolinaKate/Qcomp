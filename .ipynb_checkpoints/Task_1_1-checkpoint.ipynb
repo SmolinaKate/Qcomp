{
 "cells": [
  {
   "cell_type": "code",
   "execution_count": 2,
   "metadata": {},
   "outputs": [],
   "source": [
    "from qiskit import *\n",
    "from numpy import pi\n",
    "import numpy as np\n",
    "simulator = Aer.get_backend('qasm_simulator')"
   ]
  },
  {
   "cell_type": "markdown",
   "metadata": {},
   "source": [
    "Cначала приготовим состояние $| \\psi \\rangle = \\sin \\theta' | 0 \\rangle + e^{i \\varphi }\\cos \\theta'  | 1 \\rangle $. Для этого мы используем операторы:\n",
    "\n",
    "\\begin{equation}\n",
    "U_3 (\\theta, \\Phi=0, \\lambda) =\n",
    "\\begin{pmatrix} \n",
    "\\cos \\theta/2 & - \\sin \\theta/2\\\\\n",
    "\\sin \\theta/2 & \\cos \\theta/2\\\\\n",
    "\\end{pmatrix},    \n",
    "\\end{equation}\n",
    "\n",
    "\\begin{equation}\n",
    "U_1 (\\varphi) =\n",
    "\\begin{pmatrix} \n",
    "1& 0\\\\\n",
    "0 & e^{i \\varphi }\\\\\n",
    "\\end{pmatrix}.    \n",
    "\\end{equation}\n",
    "\n",
    "Подействуем операторами на нулевое состояние:\n",
    "\\begin{equation}\n",
    "| \\psi \\rangle  = U_1 U_3 | 0 \\rangle = \\cos \\theta/2 | 0 \\rangle +  e^{i \\varphi } \\sin \\theta/2 | 0 \\rangle\n",
    "\\end{equation}\n",
    "\n",
    "Выберем углы в виде $\\theta = - 2 \\theta' - \\pi$"
   ]
  },
  {
   "cell_type": "code",
   "execution_count": 13,
   "metadata": {},
   "outputs": [],
   "source": [
    "####################\n",
    "#####PARAMETERS#####\n",
    "####################\n",
    "####################\n",
    "theta=pi/2;\n",
    "phi=pi/11;"
   ]
  },
  {
   "cell_type": "markdown",
   "metadata": {},
   "source": [
    "\\begin{equation}\n",
    "H | \\psi \\rangle = \\dfrac{1}{\\sqrt{2}} \\left( \\left( \\cos \\theta/2  +  e^{i \\varphi } \\sin \\theta/2  \\right) | 0 \\rangle + \\left( \\cos \\theta/2  -  e^{i \\varphi } \\sin \\theta/2  \\right) | 1 \\rangle \\right)\n",
    "\\end{equation}\n",
    "\n",
    "\\begin{equation}\n",
    "p_0 = \\dfrac{1}{2} |\\cos \\theta/2  +  e^{i \\varphi } \\sin \\theta/2|^2 =  \\dfrac{1}{2} \\left( 1 + \\cos \\varphi \\sin \\theta \\right)\n",
    "\\end{equation}\n",
    "\n",
    "\\begin{equation}\n",
    "p_1 = \\dfrac{1}{2} |\\cos \\theta/2  +  e^{i \\varphi } \\sin \\theta/2|^2 =  \\dfrac{1}{2} \\left( 1 - \\cos \\varphi \\sin \\theta \\right)\n",
    "\\end{equation}\n",
    "\n",
    "\\begin{equation}\n",
    "\\cos \\varphi = \\dfrac{p_0-p_1}{\\sin \\theta}\n",
    "\\end{equation}"
   ]
  },
  {
   "cell_type": "code",
   "execution_count": 14,
   "metadata": {},
   "outputs": [
    {
     "data": {
      "text/html": [
       "<pre style=\"word-wrap: normal;white-space: pre;background: #fff0;line-height: 1.1;font-family: &quot;Courier New&quot;,Courier,monospace\">          ┌──────────────┐┌───────────┐┌───┐┌─┐\n",
       "q_0: ─|0>─┤ U3(pi/2,0,0) ├┤ U1(pi/11) ├┤ H ├┤M├\n",
       "          └──────────────┘└───────────┘└───┘└╥┘\n",
       "c: 1/════════════════════════════════════════╩═\n",
       "                                             0 </pre>"
      ],
      "text/plain": [
       "          ┌──────────────┐┌───────────┐┌───┐┌─┐\n",
       "q_0: ─|0>─┤ U3(pi/2,0,0) ├┤ U1(pi/11) ├┤ H ├┤M├\n",
       "          └──────────────┘└───────────┘└───┘└╥┘\n",
       "c: 1/════════════════════════════════════════╩═\n",
       "                                             0 "
      ]
     },
     "execution_count": 14,
     "metadata": {},
     "output_type": "execute_result"
    }
   ],
   "source": [
    "qreg_q = QuantumRegister(1, 'q')\n",
    "creg_c = ClassicalRegister(1, 'c')\n",
    "circuit = QuantumCircuit(qreg_q, creg_c)\n",
    "\n",
    "circuit.reset(qreg_q[0])\n",
    "circuit.u3(theta, 0, 0, qreg_q[0])\n",
    "circuit.u1(phi, qreg_q[0])\n",
    "\n",
    "circuit.h(qreg_q[0])\n",
    "circuit.measure(qreg_q[0], creg_c[0])\n",
    "circuit.draw()"
   ]
  },
  {
   "cell_type": "code",
   "execution_count": 15,
   "metadata": {},
   "outputs": [
    {
     "name": "stdout",
     "output_type": "stream",
     "text": [
      "\n",
      "Total count for 00 and 11 are: {'0': 98000, '1': 2000}\n",
      "\n",
      "cos(phi): 0.96\n",
      "\n",
      "we have numerically determined the next phase phi: 0.283794109208328\n",
      "\n",
      "initially we set the phase: 0.28559933214452665\n"
     ]
    }
   ],
   "source": [
    "num_of_shots=100000;\n",
    "job = execute(circuit, simulator, shots=num_of_shots)\n",
    "result = job.result()\n",
    "counts = result.get_counts(circuit)\n",
    "print(\"\\nTotal count for 00 and 11 are:\",counts)\n",
    "prob_0=counts['0']/num_of_shots;\n",
    "prob_1=counts['1']/num_of_shots;\n",
    "cosin_phi=(prob_0-prob_1)/np.sin(theta);\n",
    "print(\"\\ncos(phi):\",cosin_phi)\n",
    "print(\"\\nwe have numerically determined the next phase phi:\",np.arccos(cosin_phi))\n",
    "print(\"\\ninitially we set the phase:\",phi)"
   ]
  },
  {
   "cell_type": "markdown",
   "metadata": {},
   "source": [
    "Увеличивая num_of_shots, мы приближаем численно определенное значение к изначально заданному."
   ]
  },
  {
   "cell_type": "code",
   "execution_count": null,
   "metadata": {},
   "outputs": [],
   "source": [
    "#qreg_q_1 = QuantumRegister(1, 'q')\n",
    "#creg_c_1 = ClassicalRegister(1, 'c')\n",
    "#circuit_1 = QuantumCircuit(qreg_q_1, creg_c_1)\n",
    "\n",
    "#circuit_1.reset(qreg_q_1[0])\n",
    "#circuit_1.u3(theta, 0, 0, qreg_q_1[0])\n",
    "#circuit_1.u1(phi, qreg_q_1[0])\n",
    "#circuit_1.h(qreg_q_1[0])\n",
    "#circuit_1.sdg(qreg_q_1[0])\n",
    "#circuit_1.measure(qreg_q_1[0], creg_c_1[0])\n",
    "#job_1 = execute(circuit_1, simulator, shots=num_of_shots)\n",
    "\n",
    "#result_1 = job_1.result()\n",
    "#counts_1 = result_1.get_counts(circuit_1)\n",
    "#print(\"\\nTotal count for 00 and 11 are:\",counts)\n",
    "#prob_1_0=counts['0']/num_of_shots;\n",
    "#prob_1_1=counts['1']/num_of_shots;\n",
    "#sin_phi=(prob_1_0-prob_1_1)/np.sin(theta);\n",
    "#print(\"\\nsin(phi):\",sin_phi) "
   ]
  },
  {
   "cell_type": "code",
   "execution_count": null,
   "metadata": {},
   "outputs": [],
   "source": []
  }
 ],
 "metadata": {
  "kernelspec": {
   "display_name": "Python 3",
   "language": "python",
   "name": "python3"
  },
  "language_info": {
   "codemirror_mode": {
    "name": "ipython",
    "version": 3
   },
   "file_extension": ".py",
   "mimetype": "text/x-python",
   "name": "python",
   "nbconvert_exporter": "python",
   "pygments_lexer": "ipython3",
   "version": "3.8.3"
  }
 },
 "nbformat": 4,
 "nbformat_minor": 4
}
