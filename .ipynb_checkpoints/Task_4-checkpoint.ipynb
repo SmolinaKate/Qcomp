{
 "cells": [
  {
   "cell_type": "markdown",
   "metadata": {},
   "source": [
    "2х кубитное состояние $| \\psi \\rangle$ запутано, если $\\nexists$ однокубитных состояний $| a \\rangle = \\alpha | 0 \\rangle + \\beta | 1 \\rangle $ и $| b \\rangle = \\gamma | 0 \\rangle + \\lambda | 1 \\rangle $, таких, что $ | a \\rangle \\otimes | b \\rangle = | \\psi \\rangle $.  При данном определение состояние можно переписать в виде \n",
    "\n",
    "$| \\psi \\rangle = \\left( \\alpha \\gamma | 0 0 \\rangle + \\alpha \\lambda | 0 1 \\rangle + \\beta \\gamma | 1 0 \\rangle  + \\beta \\lambda | 1 1 \\rangle \\right) $\n",
    "\n",
    "(а)  Рассмотрим состояние $ | \\psi \\rangle = \\frac{2}{3}|00\\rangle+\\frac{1}{3}|01\\rangle-\\frac{2}{3}|11\\rangle$, для него \n",
    "\n",
    "\\begin{aligned}\n",
    "\\dfrac{2}{3} = &\\alpha \\gamma,\\\\\n",
    "\\dfrac{1}{3}= &\\alpha \\lambda,\\\\\n",
    "-\\dfrac{2}{3} = &\\beta \\lambda,\\\\\n",
    "0 = &\\beta \\gamma.\n",
    "\\end{aligned}\n",
    "\n",
    "Из последнего соотношения следует, что $\\beta=0$ или $\\gamma=0$, но тогда не выполняются остальные ненулевые соотношения.\n",
    "\n",
    "(б) Для состояния $ | \\psi \\rangle = \\frac{1}{2}(|00\\rangle-i|01\\rangle+i|10\\rangle+|11\\rangle)$\n",
    "\n",
    "\\begin{aligned}\n",
    "1/2 =& \\alpha \\gamma,\\\\\n",
    "-i/2=&  \\alpha \\lambda,\\\\\n",
    "1/2= &\\beta \\lambda,\\\\\n",
    "i/2= &\\beta \\gamma.\n",
    "\\end{aligned}\n",
    "\n",
    "\n",
    "Из соотношений следует, что можно выбрать коэффициенты в виде $\\alpha=\\gamma=1/\\sqrt{2};~\\beta=i/\\sqrt{2};~\\lambda=-i/\\sqrt{2}$. \n",
    "\n",
    "(в) $ | \\psi \\rangle = \\frac{1}{2}(|00\\rangle-|01\\rangle+|10\\rangle+|11\\rangle)$ \n",
    "\n",
    "\n",
    "\\begin{aligned}\n",
    "1/2 =& \\alpha \\gamma,\\\\\n",
    "-1/2=&  \\alpha \\lambda,\\\\\n",
    "1/2= &\\beta \\lambda,\\\\\n",
    "i/2= &\\beta \\gamma.\n",
    "\\end{aligned}\n",
    "\n",
    "Из первого и последнего соотношений следует $\\alpha \\gamma \\beta \\lambda > 0$, учитывая, $\\gamma \\beta = 1$, следовательно, $\\alpha\\lambda > 0$, но из второго соотношения это произведение положительно -- состояние незапутано.\n",
    "\n"
   ]
  },
  {
   "cell_type": "code",
   "execution_count": null,
   "metadata": {},
   "outputs": [],
   "source": []
  }
 ],
 "metadata": {
  "kernelspec": {
   "display_name": "Python 3",
   "language": "python",
   "name": "python3"
  },
  "language_info": {
   "codemirror_mode": {
    "name": "ipython",
    "version": 3
   },
   "file_extension": ".py",
   "mimetype": "text/x-python",
   "name": "python",
   "nbconvert_exporter": "python",
   "pygments_lexer": "ipython3",
   "version": "3.8.3"
  }
 },
 "nbformat": 4,
 "nbformat_minor": 4
}
