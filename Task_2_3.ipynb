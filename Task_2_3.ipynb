{
 "cells": [
  {
   "cell_type": "markdown",
   "metadata": {},
   "source": [
    "Опишем функцию, реализующую Оракул. \n",
    "\n",
    "На входе Оракула $|x\\rangle|0\\rangle$. Оракул преобразует его в $|x\\rangle\\left|f_{a}(x)\\right\\rangle$ (где $f(x)=f(x \\oplus a)$)\n",
    "\n",
    "Такую функцию можно реализовать по следующему алгоритму:\n",
    "\n",
    "1.\n",
    "\n",
    "$$\n",
    "|x\\rangle|0\\rangle \\rightarrow|x\\rangle|x\\rangle\n",
    "$$\n",
    "\n",
    "2.\n",
    "\n",
    "\n",
    "$|x\\rangle|x\\rangle \\rightarrow|x\\rangle|x \\oplus a\\rangle$ если $x_{j}=0$ для наименьшего $j$, для которого $a_{j}=1$, если  $x_{j}\\ne0$, то ничего не меняем.\n",
    "\n"
   ]
  },
  {
   "cell_type": "markdown",
   "metadata": {},
   "source": [
    "Сам Алгоритм Саймона\n",
    "\n",
    "Начальное состояние\n",
    "\n",
    "$|0\\rangle^{\\otimes n}|0\\rangle^{\\otimes n}$\n",
    "\n",
    "Применяем оператор Адамара\n",
    "\n",
    "$\\frac{1}{\\sqrt{2^{n}}} \\sum_{x \\in\\{0,1\\}^{n}}|x\\rangle|0\\rangle^{\\otimes n}$\n",
    "\n",
    "Применяем построенный Оракул \n",
    "\n",
    "$\\frac{1}{\\sqrt{2}^{n}} \\sum_{x \\in\\{0,1\\}^{n}}|x\\rangle|f(x)\\rangle$\n",
    "\n",
    "Проводим измерение второго регистра. Наблюдаемой будет величина $|f(x)\\rangle$, на входе которой $x$, что по сути отвечает первому регистру. При этом измеренному значению функции соответсвует как $x$, так и $y=x \\oplus a$. Поэтому после измерения первый регистр представим в виде\n",
    "$$\n",
    "\\left|\\psi \\right\\rangle=\\frac{1}{\\sqrt{2}}(|x\\rangle+|y\\rangle)\n",
    "$$\n",
    "\n",
    "Применяем оператор Адамара к первому регистру --\n",
    "\n",
    "$$\n",
    "\\left|\\psi \\right\\rangle=\\frac{1}{\\sqrt{2^{n+1}}} \\sum_{z \\in\\{0,1\\}^{n}}\\left[(-1)^{x \\cdot z}+(-1)^{y \\cdot z}\\right]|z\\rangle\n",
    "$$\n",
    "\n",
    "Как было доказано в предыдущем задании, при измерении мы получим состояние $|z\\rangle$ -- знаем соответствующую ему строку $z$, удовлетворяющую условию ортогональности исходной строке\n",
    "\n",
    "$$\n",
    "a \\cdot z=0(\\bmod 2)\n",
    "$$\n",
    "\n",
    "Применяя алгоритм несколько раз, мы найдем другие вектора, ортогональные $a$, и таким образом, найдем  само $a$.\n"
   ]
  },
  {
   "cell_type": "code",
   "execution_count": 9,
   "metadata": {},
   "outputs": [
    {
     "data": {
      "text/html": [
       "<pre style=\"word-wrap: normal;white-space: pre;background: #fff0;line-height: 1.1;font-family: &quot;Courier New&quot;,Courier,monospace\">     ┌───┐     ┌───┐                    ┌─┐                \n",
       "q_0: ┤ H ├──■──┤ H ├────────────────────┤M├────────────────\n",
       "     ├───┤  │  └───┘                    └╥┘        ┌───┐┌─┐\n",
       "q_1: ┤ H ├──┼────■─────────■─────────■───╫──────■──┤ H ├┤M├\n",
       "     ├───┤  │    │         │  ┌───┐  │   ║ ┌─┐  │  └───┘└╥┘\n",
       "q_2: ┤ H ├──┼────┼────■────┼──┤ H ├──┼───╫─┤M├──┼────────╫─\n",
       "     └───┘┌─┴─┐  │    │  ┌─┴─┐└───┘  │   ║ └╥┘  │        ║ \n",
       "q_3: ─────┤ X ├──┼────┼──┤ X ├───────┼───╫──╫───┼────────╫─\n",
       "          └───┘┌─┴─┐  │  └───┘     ┌─┴─┐ ║  ║   │        ║ \n",
       "q_4: ──────────┤ X ├──┼────────────┤ X ├─╫──╫───┼────────╫─\n",
       "               └───┘┌─┴─┐          └───┘ ║  ║ ┌─┴─┐      ║ \n",
       "q_5: ───────────────┤ X ├────────────────╫──╫─┤ X ├──────╫─\n",
       "                    └───┘                ║  ║ └───┘      ║ \n",
       "c: 3/════════════════════════════════════╩══╩════════════╩═\n",
       "                                         0  2            1 </pre>"
      ],
      "text/plain": [
       "     ┌───┐     ┌───┐                    ┌─┐                \n",
       "q_0: ┤ H ├──■──┤ H ├────────────────────┤M├────────────────\n",
       "     ├───┤  │  └───┘                    └╥┘        ┌───┐┌─┐\n",
       "q_1: ┤ H ├──┼────■─────────■─────────■───╫──────■──┤ H ├┤M├\n",
       "     ├───┤  │    │         │  ┌───┐  │   ║ ┌─┐  │  └───┘└╥┘\n",
       "q_2: ┤ H ├──┼────┼────■────┼──┤ H ├──┼───╫─┤M├──┼────────╫─\n",
       "     └───┘┌─┴─┐  │    │  ┌─┴─┐└───┘  │   ║ └╥┘  │        ║ \n",
       "q_3: ─────┤ X ├──┼────┼──┤ X ├───────┼───╫──╫───┼────────╫─\n",
       "          └───┘┌─┴─┐  │  └───┘     ┌─┴─┐ ║  ║   │        ║ \n",
       "q_4: ──────────┤ X ├──┼────────────┤ X ├─╫──╫───┼────────╫─\n",
       "               └───┘┌─┴─┐          └───┘ ║  ║ ┌─┴─┐      ║ \n",
       "q_5: ───────────────┤ X ├────────────────╫──╫─┤ X ├──────╫─\n",
       "                    └───┘                ║  ║ └───┘      ║ \n",
       "c: 3/════════════════════════════════════╩══╩════════════╩═\n",
       "                                         0  2            1 "
      ]
     },
     "execution_count": 9,
     "metadata": {},
     "output_type": "execute_result"
    }
   ],
   "source": [
    "import numpy as np\n",
    "from qiskit import *\n",
    "from qiskit.visualization import plot_histogram\n",
    "\n",
    "\n",
    "def oracle(a):\n",
    "    n = len(a)\n",
    "    qr = QuantumCircuit(n*2)\n",
    "    #создание |x>|x>\n",
    "    for ind in range(n):\n",
    "        qr.cx(ind, ind+n)  \n",
    "    #наименьший индекс j в нашем случае = 1    \n",
    "    for ind in range(n):\n",
    "        if a[ind] == '1':\n",
    "            qr.cx(1, ind + n)\n",
    "    return qr \n",
    "\n",
    "\n",
    "\n",
    "a = '111'\n",
    "\n",
    "n = len(a)\n",
    "simon_circuit = QuantumCircuit(n*2, n)\n",
    "simon_circuit.h(0)  \n",
    "simon_circuit.h(1)  \n",
    "simon_circuit.h(2)  \n",
    "#оракул\n",
    "simon_circuit += oracle(a)\n",
    "simon_circuit.h(0)  \n",
    "simon_circuit.h(1)  \n",
    "simon_circuit.h(2)\n",
    "\n",
    "simon_circuit.measure(range(n), range(n))\n",
    "simon_circuit.draw()"
   ]
  },
  {
   "cell_type": "code",
   "execution_count": 10,
   "metadata": {},
   "outputs": [
    {
     "name": "stdout",
     "output_type": "stream",
     "text": [
      "{'101': 270, '110': 249, '011': 242, '000': 263}\n"
     ]
    }
   ],
   "source": [
    "backend = BasicAer.get_backend('qasm_simulator')\n",
    "shots = 1024\n",
    "results = execute(simon_circuit, backend=backend, shots=shots).result()\n",
    "counts = results.get_counts()\n",
    "print(counts)"
   ]
  },
  {
   "cell_type": "markdown",
   "metadata": {},
   "source": [
    "\n",
    "как мы видим, все результаты равновероятны, значит, применяя алгоритм 4 раза, мы можем получить каждый раз одно из состояний $000$,\n",
    "$001$, $101$, $110$. \n",
    "\n",
    "Причем они выпадают случайным независимым образом -- вероятность того, что хотя бы 2 вектора будут лнз -- 3/4. \n",
    "Вероятность того, 2 вектора будут лнз после того, как запустили алгоритм 4 раза по формуле из лекций:"
   ]
  },
  {
   "cell_type": "markdown",
   "metadata": {},
   "source": [
    "$n=3$; $x=1$\n",
    "\n",
    "$q=\\left(1-\\frac{1}{2^{2+x}}\\right)\\left(1-\\frac{1}{2^{3+x}}\\right) \\ldots\\left(1-\\frac{1}{2^{n+x}}\\right)$\n",
    "\n",
    "$q=\\left(1-\\frac{1}{2^{3}}\\right)\\left(1-\\frac{1}{2^{4}}\\right)$"
   ]
  },
  {
   "cell_type": "code",
   "execution_count": 11,
   "metadata": {},
   "outputs": [
    {
     "name": "stdout",
     "output_type": "stream",
     "text": [
      "0.8203125\n",
      "0.75\n"
     ]
    }
   ],
   "source": [
    "q=(1-1/2**3)*(1-1/2**4)\n",
    "p=(3/4)**1\n",
    "print(q)\n",
    "print(p)"
   ]
  },
  {
   "cell_type": "code",
   "execution_count": null,
   "metadata": {},
   "outputs": [],
   "source": []
  },
  {
   "cell_type": "code",
   "execution_count": null,
   "metadata": {},
   "outputs": [],
   "source": []
  },
  {
   "cell_type": "code",
   "execution_count": null,
   "metadata": {},
   "outputs": [],
   "source": []
  }
 ],
 "metadata": {
  "kernelspec": {
   "display_name": "Python 3",
   "language": "python",
   "name": "python3"
  },
  "language_info": {
   "codemirror_mode": {
    "name": "ipython",
    "version": 3
   },
   "file_extension": ".py",
   "mimetype": "text/x-python",
   "name": "python",
   "nbconvert_exporter": "python",
   "pygments_lexer": "ipython3",
   "version": "3.8.3"
  }
 },
 "nbformat": 4,
 "nbformat_minor": 4
}
