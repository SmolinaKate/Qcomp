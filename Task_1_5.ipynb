{
 "cells": [
  {
   "cell_type": "code",
   "execution_count": 14,
   "metadata": {},
   "outputs": [],
   "source": [
    "from qiskit import *\n",
    "from qiskit.quantum_info import Operator, average_gate_fidelity\n",
    "from numpy import pi\n",
    "import numpy as np\n",
    "simulator = Aer.get_backend('qasm_simulator')"
   ]
  },
  {
   "cell_type": "markdown",
   "metadata": {},
   "source": [
    "Рассмотрим состояние $ | \\psi \\rangle = a_{00}|00\\rangle+a_{01}|01\\rangle+a_{10}|10\\rangle+a_{11}|11\\rangle$"
   ]
  },
  {
   "cell_type": "code",
   "execution_count": 15,
   "metadata": {},
   "outputs": [],
   "source": [
    "#(a)\n",
    "#a00=1/np.sqrt(2)\n",
    "#a01=0\n",
    "#a10=0\n",
    "#a11=1/np.sqrt(2)\n",
    "\n",
    "#(b)\n",
    "#a00=0\n",
    "#a01=1/np.sqrt(2)\n",
    "#a10=1/np.sqrt(2)\n",
    "#a11=0\n",
    "\n",
    "#(c)\n",
    "a00=3/np.sqrt(12)\n",
    "a01=1/np.sqrt(12)\n",
    "a10=1/np.sqrt(12)\n",
    "a11=-1/np.sqrt(12)"
   ]
  },
  {
   "cell_type": "markdown",
   "metadata": {},
   "source": [
    "Его можно представить в виде разложения $ | \\psi \\rangle =  |0\\rangle\\otimes | \\phi_1 \\rangle + |1\\rangle\\otimes | \\phi_2 \\rangle$, где $|\\phi_1\\rangle=a_{00}|0\\rangle+a_{01}|1\\rangle$ и $|\\phi_2\\rangle=a_{10}|0\\rangle+a_{11}|1\\rangle$. При этом определены следующие скалярные произведения:\n",
    "\n",
    "$ \\langle \\phi_1| \\phi_2 \\rangle=a_{00}^*a_{10}+a_{11}a_{01}^*$,  $ \\langle \\phi_1| \\phi_1 \\rangle=|a_{00}|^2+|a_{01}|^2$,  $ \\langle \\phi_2| \\phi_2 \\rangle=|a_{10}|^2+|a_{11}|^2$ (далее мы предполагаем числа действительными, так как таковыми они являются в задании)."
   ]
  },
  {
   "cell_type": "code",
   "execution_count": 16,
   "metadata": {},
   "outputs": [],
   "source": [
    "sc_21=a00*a10+a11*a01\n",
    "sc_11=a00**2+a01**2\n",
    "sc_22=a10**2+a11**2"
   ]
  },
  {
   "cell_type": "markdown",
   "metadata": {},
   "source": [
    "Введем унитарную матрицу\n",
    "\\begin{equation}\n",
    "U=\n",
    "\\begin{pmatrix} \n",
    "u& -v^*\\\\\n",
    "v & u^*\\\\\n",
    "\\end{pmatrix}    \n",
    "\\end{equation}\n",
    "\n",
    "И подействуем ей на первый кубит введенного разложения \n",
    "$ | \\psi \\rangle =  (u|0\\rangle+v|1\\rangle)\\otimes | \\phi_1 \\rangle + (-v^*|0\\rangle+u^*|1\\rangle)\\otimes | \\phi_2 \\rangle=|0\\rangle(u| \\phi_1 \\rangle-v^*| \\phi_2 \\rangle)+|1\\rangle(v| \\phi_1 \\rangle+u^*| \\phi_2 \\rangle)$\n",
    "\n",
    "Потребуем ортогональность вектров $e_1 \\cdot e_2 =(u^*| \\phi_1 \\rangle-v| \\phi_2 \\rangle) ^{T}\\cdot (v| \\phi_1 \\rangle+u^*| \\phi_2 \\rangle)=\\delta_{e_1,e_2} = u^{*2} \\langle \\phi_1| \\phi_2\\rangle - v^{2} \\langle \\phi_2| \\phi_1\\rangle +u^* v  (\\langle \\phi_1| \\phi_1\\rangle-\\langle \\phi_2| \\phi_2\\rangle) $\n",
    "\n",
    "$f^{2} \\langle \\phi_1| \\phi_2\\rangle -  \\langle \\phi_2| \\phi_1\\rangle +f  (\\langle \\phi_1| \\phi_1\\rangle-\\langle \\phi_2| \\phi_2\\rangle)=0 $, $f=u^*/v$:"
   ]
  },
  {
   "cell_type": "code",
   "execution_count": 17,
   "metadata": {},
   "outputs": [
    {
     "name": "stdout",
     "output_type": "stream",
     "text": [
      "0.16666666666666669\n",
      "0.6666666666666667\n",
      "-0.16666666666666669\n",
      "-4.23606797749979 0.23606797749978978\n"
     ]
    }
   ],
   "source": [
    "a = sc_21\n",
    "b = sc_11-sc_22\n",
    "c = - sc_21\n",
    "print(a)\n",
    "print(b)\n",
    "print(c)\n",
    "if a!=0:\n",
    "    discriminant = b**2 - 4*a*c\n",
    "    f1 = (-b + discriminant ** 0.5) / (2 * a)\n",
    "    f2 = (-b - discriminant ** 0.5) / (2 * a)\n",
    "    print(f2,f1)   "
   ]
  },
  {
   "cell_type": "markdown",
   "metadata": {},
   "source": [
    "Учтем унитарность введенной матрицы $u^2+v^2=1$"
   ]
  },
  {
   "cell_type": "code",
   "execution_count": 18,
   "metadata": {},
   "outputs": [
    {
     "name": "stdout",
     "output_type": "stream",
     "text": [
      "0.9732489894677302\n",
      "0.2297529205473611\n",
      "1.0\n"
     ]
    }
   ],
   "source": [
    "if a!=0:\n",
    "    v1=np.sqrt(1/(1+f1**2))\n",
    "    print(v1)\n",
    "    u1=np.sqrt(1-v1**2)\n",
    "    print(u1)\n",
    "    print(u1**2+v1**2)"
   ]
  },
  {
   "cell_type": "markdown",
   "metadata": {},
   "source": [
    "Мы можем нормировать введенные вектора $e'_1=e_1/l,~e'_2=e_2/m$, тогда они связаны с исходным базисом унитарным преобразованием\n",
    "\n",
    "$e'_1=V | 0 \\rangle$, $e'_2=V | 1 \\rangle$\n",
    "\n",
    "\n",
    "\\begin{equation}\n",
    "V=\n",
    "\\begin{pmatrix} \n",
    "v11& v12\\\\\n",
    "v21 & v22\\\\\n",
    "\\end{pmatrix}    \n",
    "\\end{equation}\n",
    "\n",
    "\n",
    "$e_1=u| \\phi_1 \\rangle-v^*| \\phi_2 \\rangle$\n",
    "\n",
    "$e_2 =v| \\phi_1 \\rangle+u^*| \\phi_2 \\rangle$\n",
    "\n",
    "$|\\phi_1\\rangle=a_{00}|0\\rangle+a_{01}|1\\rangle$ и $|\\phi_2\\rangle=a_{10}|0\\rangle+a_{11}|1\\rangle$"
   ]
  },
  {
   "cell_type": "markdown",
   "metadata": {},
   "source": [
    "\\begin{equation}\n",
    "V=\n",
    "\\begin{pmatrix} \n",
    "(u a_{00} -v^* a_{10})/l & (v a_{00} +u^* a_{10})/m \\\\\n",
    "(u a_{01} -v^* a_{11})/l&  (v a_{01} +u^* a_{11})/m \\\\\n",
    "\\end{pmatrix},\n",
    "\\end{equation}\n",
    "\n",
    "$l=\\sqrt{(u a_{00} -v^* a_{10})^2+(u a_{01} -v^* a_{11})^2}$;\n",
    "\n",
    "$m=\\sqrt{(v a_{00} +u^* a_{10})^2+(v a_{01} +u^* a_{11})^2}$.\n",
    "\n",
    "\n",
    "Если а=0, что верно для данных примеров, что матрица $U=I$. "
   ]
  },
  {
   "cell_type": "code",
   "execution_count": 8,
   "metadata": {},
   "outputs": [
    {
     "name": "stdout",
     "output_type": "stream",
     "text": [
      "0.35682208977309\n",
      "0.9341723589627158\n",
      "Operator([[ 0.35682209+0.j, -0.93417236+0.j],\n",
      "          [ 0.93417236+0.j,  0.35682209+0.j]],\n",
      "         input_dims=(2,), output_dims=(2,))\n",
      "Operator([[ 0.22975292+0.j,  0.97324899+0.j],\n",
      "          [-0.97324899+0.j,  0.22975292+0.j]],\n",
      "         input_dims=(2,), output_dims=(2,))\n",
      "Operator([[-0.22975292+0.j,  0.97324899+0.j],\n",
      "          [ 0.97324899+0.j,  0.22975292+0.j]],\n",
      "         input_dims=(2,), output_dims=(2,))\n"
     ]
    }
   ],
   "source": [
    "if a!=0:\n",
    "    l=np.sqrt((u1*a00-v1*a10)**2+(u1*a01-v1*a11)**2)\n",
    "    m=np.sqrt((v1*a00+u1*a10)**2+(v1*a01+u1*a11)**2)\n",
    "    print(l)\n",
    "    print(m)\n",
    "    w_op = Operator([[l, -m],[m,l]])\n",
    "    u_op_tr = Operator([[u1, v1],[-v1,u1]])\n",
    "    v_op_tr = Operator([[(u1*a00-v1*a10)/l,(v1*a00+u1*a10)/m],[ (u1*a01-v1*a11)/l, (v1*a01+u1*a11)/m]])\n",
    "    print(w_op)\n",
    "    print(u_op_tr)\n",
    "    print(v_op_tr)\n",
    "if a==0:\n",
    "    u1=1\n",
    "    v1=0\n",
    "    l=np.sqrt((u1*a00-v1*a10)**2+(u1*a01-v1*a11)**2)\n",
    "    m=np.sqrt((v1*a00+u1*a10)**2+(v1*a01+u1*a11)**2)\n",
    "    print(l)\n",
    "    print(m)\n",
    "    w_op = Operator([[l, -m],[m,l]])\n",
    "    u_op_tr = Operator([[u1, v1],[-v1,u1]])\n",
    "    v_op_tr = Operator([[(u1*a00-v1*a10)/l,(v1*a00+u1*a10)/m],[ (u1*a01-v1*a11)/l, (v1*a01+u1*a11)/m]])\n",
    "    print(w_op)\n",
    "    print(u_op_tr)\n",
    "    print(v_op_tr)"
   ]
  },
  {
   "cell_type": "markdown",
   "metadata": {},
   "source": [
    "Далее мы применяем операторы в последовательности\n",
    "\n",
    "$|\\psi\\rangle=\\left(\\mathbf{u}^{\\dagger} \\otimes \\mathbf{v}\\right)(l|0\\rangle \\otimes|0\\rangle+m|1\\rangle \\otimes|1\\rangle)$\n",
    "\n",
    "$|\\psi\\rangle=\\left(\\mathbf{u}^{\\dagger} \\otimes \\mathbf{v}\\right) \\mathbf{C}_{10}(\\mathbf{w} \\otimes \\mathbf{1})(|0\\rangle \\otimes|0\\rangle)$"
   ]
  },
  {
   "cell_type": "code",
   "execution_count": 9,
   "metadata": {},
   "outputs": [
    {
     "data": {
      "text/html": [
       "<pre style=\"word-wrap: normal;white-space: pre;background: #fff0;line-height: 1.1;font-family: &quot;Courier New&quot;,Courier,monospace\">          ┌───┐     ┌────┐┌─┐   \n",
       "q_0: ─|0>─┤ W ├──■──┤ UT ├┤M├───\n",
       "          └───┘┌─┴─┐├───┬┘└╥┘┌─┐\n",
       "q_1: ─|0>──────┤ X ├┤ V ├──╫─┤M├\n",
       "               └───┘└───┘  ║ └╥┘\n",
       "c: 2/══════════════════════╩══╩═\n",
       "                           0  1 </pre>"
      ],
      "text/plain": [
       "          ┌───┐     ┌────┐┌─┐   \n",
       "q_0: ─|0>─┤ W ├──■──┤ UT ├┤M├───\n",
       "          └───┘┌─┴─┐├───┬┘└╥┘┌─┐\n",
       "q_1: ─|0>──────┤ X ├┤ V ├──╫─┤M├\n",
       "               └───┘└───┘  ║ └╥┘\n",
       "c: 2/══════════════════════╩══╩═\n",
       "                           0  1 "
      ]
     },
     "execution_count": 9,
     "metadata": {},
     "output_type": "execute_result"
    }
   ],
   "source": [
    "qreg_q = QuantumRegister(2, 'q')\n",
    "creg_c = ClassicalRegister(2, 'c')\n",
    "circuit = QuantumCircuit(qreg_q, creg_c)\n",
    "\n",
    "circuit.reset(qreg_q[0])\n",
    "circuit.reset(qreg_q[1])\n",
    "circuit.unitary(w_op,[0], label='W')\n",
    "circuit.cx(qreg_q[0], qreg_q[1])\n",
    "circuit.unitary(u_op_tr,[0], label='UT')\n",
    "circuit.unitary(v_op_tr,[1], label='V')\n",
    "circuit.measure(qreg_q,creg_c)\n",
    "circuit.draw()"
   ]
  },
  {
   "cell_type": "code",
   "execution_count": 11,
   "metadata": {},
   "outputs": [
    {
     "data": {
      "image/png": "[encoded data removed]",
      "text/plain": [
       "<Figure size 504x360 with 1 Axes>"
      ]
     },
     "execution_count": 11,
     "metadata": {},
     "output_type": "execute_result"
    }
   ],
   "source": [
    "result = execute(circuit, backend = simulator).result()\n",
    "from qiskit.tools.visualization import plot_histogram\n",
    "plot_histogram(result.get_counts(circuit))"
   ]
  },
  {
   "cell_type": "markdown",
   "metadata": {},
   "source": [
    "Применим алгоритм к подпунктам (а) и (б) задания."
   ]
  },
  {
   "cell_type": "code",
   "execution_count": 12,
   "metadata": {},
   "outputs": [
    {
     "name": "stdout",
     "output_type": "stream",
     "text": [
      "0.0\n",
      "0.0\n",
      "-0.0\n",
      "0.7071067811865475\n",
      "0.7071067811865475\n",
      "Operator([[ 0.70710678+0.j, -0.70710678+0.j],\n",
      "          [ 0.70710678+0.j,  0.70710678+0.j]],\n",
      "         input_dims=(2,), output_dims=(2,))\n",
      "Operator([[1.+0.j, 0.+0.j],\n",
      "          [0.+0.j, 1.+0.j]],\n",
      "         input_dims=(2,), output_dims=(2,))\n",
      "Operator([[1.+0.j, 0.+0.j],\n",
      "          [0.+0.j, 1.+0.j]],\n",
      "         input_dims=(2,), output_dims=(2,))\n"
     ]
    },
    {
     "data": {
      "image/png": "[encoded data removed]",
      "text/plain": [
       "<Figure size 504x360 with 1 Axes>"
      ]
     },
     "execution_count": 12,
     "metadata": {},
     "output_type": "execute_result"
    }
   ],
   "source": [
    "#(a)\n",
    "a00=1/np.sqrt(2)\n",
    "a01=0\n",
    "a10=0\n",
    "a11=1/np.sqrt(2)\n",
    "\n",
    "#(b)\n",
    "#a00=0\n",
    "#a01=1/np.sqrt(2)\n",
    "#a10=1/np.sqrt(2)\n",
    "#a11=0\n",
    "\n",
    "sc_21=a00*a10+a11*a01\n",
    "sc_11=a00**2+a01**2\n",
    "sc_22=a10**2+a11**2\n",
    "\n",
    "a = sc_21\n",
    "b = sc_11-sc_22\n",
    "c = - sc_21\n",
    "print(a)\n",
    "print(b)\n",
    "print(c)\n",
    "if a!=0:\n",
    "    discriminant = b**2 - 4*a*c\n",
    "    f1 = (-b + discriminant ** 0.5) / (2 * a)\n",
    "    f2 = (-b - discriminant ** 0.5) / (2 * a)\n",
    "    print(f2,f1)  \n",
    "    \n",
    "if a!=0:\n",
    "    v1=np.sqrt(1/(1+f1**2))\n",
    "    print(v1)\n",
    "    u1=np.sqrt(1-v1**2)\n",
    "    print(u1)\n",
    "    print(u1**2+v1**2)\n",
    "if a!=0:\n",
    "    l=np.sqrt((u1*a00-v1*a10)**2+(u1*a01-v1*a11)**2)\n",
    "    m=np.sqrt((v1*a00+u1*a10)**2+(v1*a01+u1*a11)**2)\n",
    "    print(l)\n",
    "    print(m)\n",
    "    w_op = Operator([[l, -m],[m,l]])\n",
    "    u_op_tr = Operator([[u1, v1],[-v1,u1]])\n",
    "    v_op_tr = Operator([[(u1*a00-v1*a10)/l,(v1*a00+u1*a10)/m],[ (u1*a01-v1*a11)/l, (v1*a01+u1*a11)/m]])\n",
    "    print(w_op)\n",
    "    print(u_op_tr)\n",
    "    print(v_op_tr)\n",
    "if a==0:\n",
    "    u1=1\n",
    "    v1=0\n",
    "    l=np.sqrt((u1*a00-v1*a10)**2+(u1*a01-v1*a11)**2)\n",
    "    m=np.sqrt((v1*a00+u1*a10)**2+(v1*a01+u1*a11)**2)\n",
    "    print(l)\n",
    "    print(m)\n",
    "    w_op = Operator([[l, -m],[m,l]])\n",
    "    u_op_tr = Operator([[u1, v1],[-v1,u1]])\n",
    "    v_op_tr = Operator([[(u1*a00-v1*a10)/l,(v1*a00+u1*a10)/m],[ (u1*a01-v1*a11)/l, (v1*a01+u1*a11)/m]])\n",
    "    print(w_op)\n",
    "    print(u_op_tr)\n",
    "    print(v_op_tr)\n",
    "qreg_q = QuantumRegister(2, 'q')\n",
    "creg_c = ClassicalRegister(2, 'c')\n",
    "circuit = QuantumCircuit(qreg_q, creg_c)\n",
    "\n",
    "circuit.reset(qreg_q[0])\n",
    "circuit.reset(qreg_q[1])\n",
    "circuit.unitary(w_op,[0], label='W')\n",
    "circuit.cx(qreg_q[0], qreg_q[1])\n",
    "circuit.unitary(u_op_tr,[0], label='UT')\n",
    "circuit.unitary(v_op_tr,[1], label='V')\n",
    "circuit.measure(qreg_q,creg_c)\n",
    "circuit.draw()\n",
    "\n",
    "result = execute(circuit, backend = simulator).result()\n",
    "from qiskit.tools.visualization import plot_histogram\n",
    "plot_histogram(result.get_counts(circuit))"
   ]
  },
  {
   "cell_type": "code",
   "execution_count": 13,
   "metadata": {},
   "outputs": [
    {
     "name": "stdout",
     "output_type": "stream",
     "text": [
      "0.0\n",
      "0.0\n",
      "-0.0\n",
      "0.7071067811865475\n",
      "0.7071067811865475\n",
      "Operator([[ 0.70710678+0.j, -0.70710678+0.j],\n",
      "          [ 0.70710678+0.j,  0.70710678+0.j]],\n",
      "         input_dims=(2,), output_dims=(2,))\n",
      "Operator([[1.+0.j, 0.+0.j],\n",
      "          [0.+0.j, 1.+0.j]],\n",
      "         input_dims=(2,), output_dims=(2,))\n",
      "Operator([[0.+0.j, 1.+0.j],\n",
      "          [1.+0.j, 0.+0.j]],\n",
      "         input_dims=(2,), output_dims=(2,))\n"
     ]
    },
    {
     "data": {
      "image/png": "[encoded data removed]",
      "text/plain": [
       "<Figure size 504x360 with 1 Axes>"
      ]
     },
     "execution_count": 13,
     "metadata": {},
     "output_type": "execute_result"
    }
   ],
   "source": [
    "#(a)\n",
    "#a00=1/np.sqrt(2)\n",
    "#a01=0\n",
    "#a10=0\n",
    "#a11=1/np.sqrt(2)\n",
    "\n",
    "#(b)\n",
    "a00=0\n",
    "a01=1/np.sqrt(2)\n",
    "a10=1/np.sqrt(2)\n",
    "a11=0\n",
    "\n",
    "sc_21=a00*a10+a11*a01\n",
    "sc_11=a00**2+a01**2\n",
    "sc_22=a10**2+a11**2\n",
    "\n",
    "a = sc_21\n",
    "b = sc_11-sc_22\n",
    "c = - sc_21\n",
    "print(a)\n",
    "print(b)\n",
    "print(c)\n",
    "if a!=0:\n",
    "    discriminant = b**2 - 4*a*c\n",
    "    f1 = (-b + discriminant ** 0.5) / (2 * a)\n",
    "    f2 = (-b - discriminant ** 0.5) / (2 * a)\n",
    "    print(f2,f1)  \n",
    "    \n",
    "if a!=0:\n",
    "    v1=np.sqrt(1/(1+f1**2))\n",
    "    print(v1)\n",
    "    u1=np.sqrt(1-v1**2)\n",
    "    print(u1)\n",
    "    print(u1**2+v1**2)\n",
    "if a!=0:\n",
    "    l=np.sqrt((u1*a00-v1*a10)**2+(u1*a01-v1*a11)**2)\n",
    "    m=np.sqrt((v1*a00+u1*a10)**2+(v1*a01+u1*a11)**2)\n",
    "    print(l)\n",
    "    print(m)\n",
    "    w_op = Operator([[l, -m],[m,l]])\n",
    "    u_op_tr = Operator([[u1, v1],[-v1,u1]])\n",
    "    v_op_tr = Operator([[(u1*a00-v1*a10)/l,(v1*a00+u1*a10)/m],[ (u1*a01-v1*a11)/l, (v1*a01+u1*a11)/m]])\n",
    "    print(w_op)\n",
    "    print(u_op_tr)\n",
    "    print(v_op_tr)\n",
    "if a==0:\n",
    "    u1=1\n",
    "    v1=0\n",
    "    l=np.sqrt((u1*a00-v1*a10)**2+(u1*a01-v1*a11)**2)\n",
    "    m=np.sqrt((v1*a00+u1*a10)**2+(v1*a01+u1*a11)**2)\n",
    "    print(l)\n",
    "    print(m)\n",
    "    w_op = Operator([[l, -m],[m,l]])\n",
    "    u_op_tr = Operator([[u1, v1],[-v1,u1]])\n",
    "    v_op_tr = Operator([[(u1*a00-v1*a10)/l,(v1*a00+u1*a10)/m],[ (u1*a01-v1*a11)/l, (v1*a01+u1*a11)/m]])\n",
    "    print(w_op)\n",
    "    print(u_op_tr)\n",
    "    print(v_op_tr)\n",
    "qreg_q = QuantumRegister(2, 'q')\n",
    "creg_c = ClassicalRegister(2, 'c')\n",
    "circuit = QuantumCircuit(qreg_q, creg_c)\n",
    "\n",
    "circuit.reset(qreg_q[0])\n",
    "circuit.reset(qreg_q[1])\n",
    "circuit.unitary(w_op,[0], label='W')\n",
    "circuit.cx(qreg_q[0], qreg_q[1])\n",
    "circuit.unitary(u_op_tr,[0], label='UT')\n",
    "circuit.unitary(v_op_tr,[1], label='V')\n",
    "circuit.measure(qreg_q,creg_c)\n",
    "circuit.draw()\n",
    "\n",
    "result = execute(circuit, backend = simulator).result()\n",
    "from qiskit.tools.visualization import plot_histogram\n",
    "plot_histogram(result.get_counts(circuit))"
   ]
  },
  {
   "cell_type": "code",
   "execution_count": null,
   "metadata": {},
   "outputs": [],
   "source": []
  }
 ],
 "metadata": {
  "kernelspec": {
   "display_name": "Python 3",
   "language": "python",
   "name": "python3"
  },
  "language_info": {
   "codemirror_mode": {
    "name": "ipython",
    "version": 3
   },
   "file_extension": ".py",
   "mimetype": "text/x-python",
   "name": "python",
   "nbconvert_exporter": "python",
   "pygments_lexer": "ipython3",
   "version": "3.8.3"
  }
 },
 "nbformat": 4,
 "nbformat_minor": 4
}
