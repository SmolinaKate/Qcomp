{
 "cells": [
  {
   "cell_type": "markdown",
   "metadata": {},
   "source": [
    "Рассмотрим $\\psi_0=|00\\rangle$. \n",
    "\n",
    "$\\psi_1=NOT_2 \\psi_0$.\n",
    "\n",
    "Применим последовательно оператор Адамара к обоим кубитам, потом $f$.\n",
    "\n",
    "$$\n",
    "U_f\\cdot (H\\otimes H) \\psi_1=\\frac{1}{2} U_f (|0\\rangle+|1\\rangle)\\otimes (|0\\rangle-|1\\rangle)=\\frac{1}{2} U_f (|00\\rangle-|01\\rangle+|10\\rangle-|11\\rangle)=\\frac{1}{2} (|0\\rangle|f(0)\\otimes 0 \\rangle-|0\\rangle|f(0) \\otimes 1 \\rangle+|1\\rangle|f(1) \\otimes 0 \\rangle-|1\\rangle|f(1) \\otimes 1 \\rangle=\\frac{1}{2}((-1)^{f(0)}|0\\rangle(|0\\rangle-|1\\rangle)+(-1)^{f(1)}|1\\rangle(|0\\rangle-|1\\rangle)=\\frac{1}{2}(-1)^{f(0)}(|0\\rangle+(-1)^{f(0)\\otimes f(1)}|1\\rangle)(|0\\rangle-|1\\rangle).\n",
    "$$\n",
    "\n",
    "Применив преобразование Адамара к 1ому кубиту, получим (в дальнейших выкладках мы не учитываем фазовый множитель)\n",
    "\n",
    "\n",
    "$$\n",
    "|\\psi\\rangle=\\frac{1}{2}[(1+(-1)^{f(0)\\otimes f(1)})|0\\rangle+(1-(-1)^{f(0)\\otimes f(1)})|1\\rangle](|0\\rangle-|1\\rangle).\n",
    "$$\n",
    "\n",
    "Из соотношения видно, что в случае постоянной функции $f(0)\\otimes f(1)=0$ вероятность обнаружить систему в состоянии 1 =0; в случае сбалансированной функции мы наоборот обнаружим систему в первом состоянии. "
   ]
  },
  {
   "cell_type": "code",
   "execution_count": null,
   "metadata": {},
   "outputs": [],
   "source": []
  },
  {
   "cell_type": "code",
   "execution_count": null,
   "metadata": {},
   "outputs": [],
   "source": []
  }
 ],
 "metadata": {
  "kernelspec": {
   "display_name": "Python 3",
   "language": "python",
   "name": "python3"
  },
  "language_info": {
   "codemirror_mode": {
    "name": "ipython",
    "version": 3
   },
   "file_extension": ".py",
   "mimetype": "text/x-python",
   "name": "python",
   "nbconvert_exporter": "python",
   "pygments_lexer": "ipython3",
   "version": "3.8.3"
  }
 },
 "nbformat": 4,
 "nbformat_minor": 4
}
