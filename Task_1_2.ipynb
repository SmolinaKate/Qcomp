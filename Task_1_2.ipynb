{
 "cells": [
  {
   "cell_type": "code",
   "execution_count": 86,
   "metadata": {},
   "outputs": [],
   "source": [
    "from qiskit import *\n",
    "from numpy import pi\n",
    "import numpy as np\n",
    "simulator = Aer.get_backend('qasm_simulator')"
   ]
  },
  {
   "cell_type": "markdown",
   "metadata": {},
   "source": [
    "Для приготовление однокубитного состояния вида $|\\psi\\rangle=\\sin \\theta/2 |0\\rangle+e^{i \\varphi} \\cos \\theta/2|1\\rangle$ мы будем использовать следующие операторы:\n",
    "\n",
    "\\begin{equation}\n",
    "R_z (\\gamma) =\n",
    "\\begin{pmatrix} \n",
    "e^{-i \\gamma/2 }& 0\\\\\n",
    "0 & e^{i \\gamma/2 }\\\\\n",
    "\\end{pmatrix},    \n",
    "\\end{equation}\n",
    "\n",
    "\n",
    "\n",
    "\\begin{equation}\n",
    "S =\n",
    "\\begin{pmatrix} \n",
    "1& 0\\\\\n",
    "0 & i\\\\\n",
    "\\end{pmatrix}.    \n",
    "\\end{equation}\n",
    "\n",
    "\n",
    "Рассмотрим их действие на $| 0 \\rangle$ в следующем порядке:\n",
    "\n",
    "\\begin{equation}\n",
    "H R_z (\\delta)  | 0 \\rangle = \\dfrac{1}{\\sqrt{2}}  \\begin{pmatrix} \n",
    "1& 1\\\\\n",
    "1 & -1\\\\\n",
    "\\end{pmatrix} \\left( \\!{\\begin{array}{*{20}{c}}\n",
    "e^{-i \\delta /2} \\\\\n",
    "0\n",
    " \\end{array}} \\!  \\right)   = \\dfrac{e^{-i \\delta /2}}{\\sqrt{2}}  \\left( \\!{\\begin{array}{*{20}{c}}\n",
    "1 \\\\\n",
    "1\n",
    " \\end{array}} \\!  \\right) \n",
    "\\end{equation}\n",
    "\n",
    "\\begin{equation}\n",
    "R_z (\\gamma) \\left[\\dfrac{e^{-i \\delta /2}}{\\sqrt{2}}  \\left( \\!{\\begin{array}{*{20}{c}}\n",
    "1 \\\\\n",
    "1\n",
    " \\end{array}} \\!  \\right) \\right]  =\\dfrac{e^{-i \\delta /2}}{\\sqrt{2}}  \\left( \\!{\\begin{array}{*{20}{c}}\n",
    "e^{-i \\gamma/2 } \\\\\n",
    "e^{i \\gamma/2 }\n",
    " \\end{array}} \\!  \\right) \n",
    "\\end{equation}\n",
    "\n",
    "\\begin{equation}\n",
    "H \\left[\\dfrac{e^{-i \\delta /2}}{\\sqrt{2}}  \\left( \\!{\\begin{array}{*{20}{c}}\n",
    "e^{-i \\gamma/2 } \\\\\n",
    "e^{i \\gamma/2 }\n",
    " \\end{array}} \\!  \\right)  \\right]  = e^{-i \\delta /2} \\left( \\!{\\begin{array}{*{20}{c}}\n",
    "\\cos \\gamma/2  \\\\\n",
    "-i \\sin \\gamma/2 \n",
    " \\end{array}} \\!  \\right) \n",
    "\\end{equation}\n",
    "\n",
    "\\begin{equation}\n",
    "S \\left[e^{-i \\delta /2} \\left( \\!{\\begin{array}{*{20}{c}}\n",
    "\\cos \\gamma/2  \\\\\n",
    "-i \\sin \\gamma/2 \n",
    " \\end{array}} \\!  \\right)  \\right]  = e^{-i \\delta /2} \\left( \\!{\\begin{array}{*{20}{c}}\n",
    "\\cos \\gamma/2  \\\\\n",
    "\\sin \\gamma/2 \n",
    " \\end{array}} \\!  \\right) \n",
    "\\end{equation}\n",
    "\n",
    "\\begin{equation}\n",
    "R_z (\\beta)\\left[e^{-i \\delta /2} \\left( \\!{\\begin{array}{*{20}{c}}\n",
    "\\cos \\gamma/2  \\\\\n",
    "\\sin \\gamma/2 \n",
    " \\end{array}} \\!  \\right)  \\right]  = \n",
    " \\left( \\!{\\begin{array}{*{20}{c}}\n",
    "e^{i (-\\delta+\\beta) /2} \\cos \\gamma/2  \\\\\n",
    "e^{i (-\\delta-\\beta) /2} \\sin \\gamma/2 \n",
    " \\end{array}} \\!  \\right) \n",
    "\\end{equation}\n",
    "\n",
    "Если мы выберем углы в форме $\\delta=-\\varphi;~\\beta=\\varphi$, $\\gamma = - \\theta - \\pi$ то получим нужное состояние.\n"
   ]
  },
  {
   "cell_type": "code",
   "execution_count": 87,
   "metadata": {},
   "outputs": [],
   "source": [
    "####################\n",
    "#####PARAMETERS#####\n",
    "####################\n",
    "####################\n",
    "phi=pi/2\n",
    "theta=pi/2\n",
    "gamma=-theta-pi\n",
    "num_of_shots=1000"
   ]
  },
  {
   "cell_type": "code",
   "execution_count": 88,
   "metadata": {},
   "outputs": [
    {
     "data": {
      "text/html": [
       "<pre style=\"word-wrap: normal;white-space: pre;background: #fff0;line-height: 1.1;font-family: &quot;Courier New&quot;,Courier,monospace\">          ┌───────────┐┌───┐┌────────────┐┌───┐┌───┐┌──────────┐┌─┐\n",
       "q_0: ─|0>─┤ RZ(-pi/2) ├┤ H ├┤ RZ(-3pi/2) ├┤ H ├┤ S ├┤ RZ(pi/2) ├┤M├\n",
       "          └───────────┘└───┘└────────────┘└───┘└───┘└──────────┘└╥┘\n",
       "c: 1/════════════════════════════════════════════════════════════╩═\n",
       "                                                                 0 </pre>"
      ],
      "text/plain": [
       "          ┌───────────┐┌───┐┌────────────┐┌───┐┌───┐┌──────────┐┌─┐\n",
       "q_0: ─|0>─┤ RZ(-pi/2) ├┤ H ├┤ RZ(-3pi/2) ├┤ H ├┤ S ├┤ RZ(pi/2) ├┤M├\n",
       "          └───────────┘└───┘└────────────┘└───┘└───┘└──────────┘└╥┘\n",
       "c: 1/════════════════════════════════════════════════════════════╩═\n",
       "                                                                 0 "
      ]
     },
     "execution_count": 88,
     "metadata": {},
     "output_type": "execute_result"
    }
   ],
   "source": [
    "qreg_q = QuantumRegister(1, 'q')\n",
    "creg_c = ClassicalRegister(1, 'c')\n",
    "circuit = QuantumCircuit(qreg_q, creg_c)\n",
    "circuit.reset(qreg_q[0])\n",
    "circuit.rz(-phi, qreg_q[0])\n",
    "circuit.h(qreg_q[0])\n",
    "circuit.rz(gamma,qreg_q[0])\n",
    "circuit.h(qreg_q[0])\n",
    "circuit.s( qreg_q[0])\n",
    "circuit.rz(phi, qreg_q[0])\n",
    "circuit.measure(qreg_q[0], creg_c[0])\n",
    "circuit.draw()"
   ]
  },
  {
   "cell_type": "code",
   "execution_count": 89,
   "metadata": {},
   "outputs": [],
   "source": [
    "simulator = Aer.get_backend('qasm_simulator')\n",
    "job = execute(circuit, simulator, shots=num_of_shots)\n",
    "result = job.result()\n",
    "counts = result.get_counts(circuit)"
   ]
  },
  {
   "cell_type": "markdown",
   "metadata": {},
   "source": [
    "Рассмотрим, как действует стандартный оператор \n",
    "\n",
    "\n",
    "$U 3(\\theta, \\phi, \\lambda)=\\left(\\begin{array}{cc}\\cos \\left(\\frac{\\gamma}{2}\\right) & -e^{i \\lambda} \\sin \\left(\\frac{\\gamma}{2}\\right) \\\\ e^{i \\phi} \\sin \\left(\\frac{\\gamma}{2}\\right) & e^{i(\\phi+\\lambda)} \\cos \\left(\\frac{\\gamma}{2}\\right)\\end{array}\\right)$\n",
    "\n",
    "При действии на нулевое состояние получим\n",
    "\n",
    "$|\\psi\\rangle=\\cos \\gamma/2 |0\\rangle+e^{i \\varphi} \\sin \\gamma/2|1\\rangle$\n"
   ]
  },
  {
   "cell_type": "code",
   "execution_count": 90,
   "metadata": {},
   "outputs": [
    {
     "data": {
      "text/html": [
       "<pre style=\"word-wrap: normal;white-space: pre;background: #fff0;line-height: 1.1;font-family: &quot;Courier New&quot;,Courier,monospace\">          ┌───────────────────┐┌─┐\n",
       "q_0: ─|0>─┤ U3(-3pi/2,pi/2,0) ├┤M├\n",
       "          └───────────────────┘└╥┘\n",
       "c: 1/═══════════════════════════╩═\n",
       "                                0 </pre>"
      ],
      "text/plain": [
       "          ┌───────────────────┐┌─┐\n",
       "q_0: ─|0>─┤ U3(-3pi/2,pi/2,0) ├┤M├\n",
       "          └───────────────────┘└╥┘\n",
       "c: 1/═══════════════════════════╩═\n",
       "                                0 "
      ]
     },
     "execution_count": 90,
     "metadata": {},
     "output_type": "execute_result"
    }
   ],
   "source": [
    "qreg_q_1 = QuantumRegister(1, 'q')\n",
    "creg_c_1 = ClassicalRegister(1, 'c')\n",
    "circuit_1 = QuantumCircuit(qreg_q_1, creg_c_1)\n",
    "\n",
    "circuit_1.reset(qreg_q_1[0])\n",
    "circuit_1.u3(gamma, phi, 0, qreg_q_1[0])\n",
    "circuit_1.measure(qreg_q_1[0], creg_c_1[0])\n",
    "circuit_1.draw()"
   ]
  },
  {
   "cell_type": "code",
   "execution_count": 91,
   "metadata": {},
   "outputs": [],
   "source": [
    "job = execute(circuit_1, simulator, shots=num_of_shots)\n",
    "result_1 = job.result()\n",
    "counts_1 = result_1.get_counts(circuit_1)"
   ]
  },
  {
   "cell_type": "markdown",
   "metadata": {},
   "source": [
    "Сравнение действия стандартного оператора и оператора, который мы приготовили самостоятельно:"
   ]
  },
  {
   "cell_type": "code",
   "execution_count": 92,
   "metadata": {},
   "outputs": [
    {
     "name": "stdout",
     "output_type": "stream",
     "text": [
      "\n",
      "For self-made operator total count for 00 and 11 are: {'0': 512, '1': 488}\n",
      "\n",
      "For standard operator u_3 total count for 00 and 11 are: {'0': 504, '1': 496}\n"
     ]
    }
   ],
   "source": [
    "print(\"\\nFor self-made operator total count for 00 and 11 are:\",counts)\n",
    "\n",
    "print(\"\\nFor standard operator u_3 total count for 00 and 11 are:\",counts_1)"
   ]
  },
  {
   "cell_type": "code",
   "execution_count": null,
   "metadata": {},
   "outputs": [],
   "source": []
  }
 ],
 "metadata": {
  "kernelspec": {
   "display_name": "Python 3",
   "language": "python",
   "name": "python3"
  },
  "language_info": {
   "codemirror_mode": {
    "name": "ipython",
    "version": 3
   },
   "file_extension": ".py",
   "mimetype": "text/x-python",
   "name": "python",
   "nbconvert_exporter": "python",
   "pygments_lexer": "ipython3",
   "version": "3.8.3"
  }
 },
 "nbformat": 4,
 "nbformat_minor": 4
}
