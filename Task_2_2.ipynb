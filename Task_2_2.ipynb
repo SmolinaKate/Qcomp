{
 "cells": [
  {
   "cell_type": "markdown",
   "metadata": {},
   "source": [
    " 1. \n",
    " \n",
    "Перепишем действие оператора Адамара на 1 кубит в виде\n",
    "\n",
    "$\\mathbf{H}|x\\rangle=\\frac{1}{\\sqrt{2}}\\left(|0\\rangle+(-1)^{x}|1\\rangle\\right)=\\frac{1}{\\sqrt{2}} \\sum_{z=0}^{1}(-1)^{x z}|z\\rangle$."
   ]
  },
  {
   "cell_type": "markdown",
   "metadata": {},
   "source": [
    "Применим к $n$ кубитам:"
   ]
  },
  {
   "cell_type": "markdown",
   "metadata": {},
   "source": [
    "$\\mathbf{H}^{\\otimes n}|x\\rangle_{n}=\\mathbf{H}^{\\otimes n}| \\mathbf{x} \\rangle =\\frac{1}{2^{n / 2}} \\sum_{z_{n-1}=0}^{1} (-1)^{x_{n-1} z_{n-1}} \\left|z_{n-1}\\right\\rangle <...> \\sum_{z_{0}=0}^{1}(-1)^{x_{0} z_{0}} \\cdots\\left|z_{0}\\right\\rangle \\\\ \n",
    "=\\frac{1}{2^{n / 2}} \\sum_{z_{n-1}=0}^{1} \\cdots \\sum_{z_{0}=0}^{1}(-1)^{\\sum_{j=0}^{n-1} x_{j} z_{j}}\\left|z_{n-1}\\right\\rangle \\cdots\\left|z_{0}\\right\\rangle \\\\\n",
    "=\\frac{1}{2^{n / 2}} \\sum_{z=0}^{2^{n}-1}(-1)^{\\mathbf{z}\\cdot\\mathbf{x}}|\\mathbf{z}\\rangle$."
   ]
  },
  {
   "cell_type": "markdown",
   "metadata": {},
   "source": [
    "2. \n",
    "\n",
    "Докажем, что\n",
    "\n",
    "$$\n",
    "H^{\\otimes n}\\left(\\frac{1}{\\sqrt{2}}|\\mathbf{x}\\rangle+\\frac{1}{\\sqrt{2}}|\\mathbf{y}\\rangle\\right)=\\frac{1}{\\sqrt{2^{n}}} \\sum_{\\mathbf{z} \\in\\{\\mathbf{s}\\}^{\\perp}}(-1)^{\\mathbf{x} \\cdot \\mathbf{z}}|\\mathbf{z}\\rangle\n",
    "$$\n",
    "где $\\mathbf{x}, \\mathbf{y} \\in\\{0,1\\}^{n}, \\mathbf{s}=\\mathbf{x} \\oplus \\mathbf{y}$ ;$(\\mathbf{s}\\oplus \\mathbf{x}= \\mathbf{y}$) и $s^{\\perp}=\\left\\{\\mathbf{z} \\in\\{0,1\\}^{n} \\mid\\mathbf{s} \\cdot \\mathbf{z}=0\\right\\}$."
   ]
  },
  {
   "cell_type": "markdown",
   "metadata": {},
   "source": [
    "Используем предыдущее соотношение:\n",
    "\n",
    "$$\n",
    "H^{\\otimes n}\\left(\\frac{1}{\\sqrt{2}}|\\mathbf{x}\\rangle+\\frac{1}{\\sqrt{2}}|\\mathbf{y}\\rangle\\right)=\n",
    "\\frac{1}{\\sqrt{2}} \\left( \\frac{1}{2^{n / 2}} \\sum_{z=0}^{2^{n}-1}(-1)^{\\mathbf{z}\\cdot\\mathbf{x}}|\\mathbf{z}\\rangle + \\frac{1}{2^{n / 2}} \\sum_{z=0}^{2^{n}-1}(-1)^{\\mathbf{z}\\cdot\\mathbf{y}}|\\mathbf{z}\\rangle \\right)=\\frac{1}{\\sqrt{2}} \\left( \\frac{1}{2^{n / 2}} \\sum_{z=0}^{2^{n}-1}(-1)^{\\mathbf{z}\\cdot\\mathbf{x}}|\\mathbf{z}\\rangle + \\frac{1}{2^{n / 2}} \\sum_{z=0}^{2^{n}-1}(-1)^{\\mathbf{z}\\cdot (\\mathbf{s}\\oplus \\mathbf{x})}|\\mathbf{z}\\rangle \\right),\n",
    "$$\n"
   ]
  },
  {
   "cell_type": "markdown",
   "metadata": {},
   "source": [
    "$(-1)^{\\mathbf{z}\\cdot (\\mathbf{s}\\oplus \\mathbf{x})}=(-1)^{\\mathbf{z}\\mathbf{s}}(-1)^{\\mathbf{z}\\mathbf{x}}$.\n",
    "\n",
    "Слагаемые, которые соответствуют $\\mathbf{z}\\mathbf{s}=1$, дают нулевой вклад в сумму  $\\frac{1}{\\sqrt{2}} \\left( \\frac{1}{2^{n / 2}} \\sum_{z=0}^{2^{n}-1}(-1)^{\\mathbf{z}\\cdot\\mathbf{x}}|\\mathbf{z}\\rangle + \\frac{1}{2^{n / 2}} \\sum_{z=0}^{2^{n}-1}(-1)^{\\mathbf{z}\\mathbf{s}}(-1)^{\\mathbf{z}\\mathbf{x}}|\\mathbf{z}\\rangle \\right)$, следовательно, нужно учитывать только те слагаемые, для которых $\\mathbf{z}\\mathbf{s} = 0$, они образуют подпространство $s^{\\perp}=\\left\\{\\mathbf{z} \\in\\{0,1\\}^{n} \\mid\\mathbf{s} \\cdot \\mathbf{z}=0\\right\\}$ и преобразуют исходную сумму в  $\\frac{1}{\\sqrt{2^{n}}} \\sum_{\\mathbf{z} \\in\\{\\mathbf{s}\\}^{\\perp}}(-1)^{\\mathbf{x} \\cdot \\mathbf{z}}|\\mathbf{z}\\rangle$."
   ]
  },
  {
   "cell_type": "code",
   "execution_count": null,
   "metadata": {},
   "outputs": [],
   "source": []
  }
 ],
 "metadata": {
  "kernelspec": {
   "display_name": "Python 3",
   "language": "python",
   "name": "python3"
  },
  "language_info": {
   "codemirror_mode": {
    "name": "ipython",
    "version": 3
   },
   "file_extension": ".py",
   "mimetype": "text/x-python",
   "name": "python",
   "nbconvert_exporter": "python",
   "pygments_lexer": "ipython3",
   "version": "3.8.3"
  }
 },
 "nbformat": 4,
 "nbformat_minor": 4
}
